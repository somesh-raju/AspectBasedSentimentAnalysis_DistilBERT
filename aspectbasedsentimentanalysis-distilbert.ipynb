{
 "cells": [
  {
   "cell_type": "markdown",
   "id": "013812ae",
   "metadata": {
    "id": "pWgujXmGqzIC",
    "papermill": {
     "duration": 0.023943,
     "end_time": "2022-07-17T15:26:14.454585",
     "exception": false,
     "start_time": "2022-07-17T15:26:14.430642",
     "status": "completed"
    },
    "tags": []
   },
   "source": [
    "# Aspect-Based Sentiment Analysis with DistilBERT"
   ]
  },
  {
   "cell_type": "markdown",
   "id": "52d5bcac",
   "metadata": {
    "id": "pr5PWYKGPi6R",
    "papermill": {
     "duration": 0.022529,
     "end_time": "2022-07-17T15:26:14.500135",
     "exception": false,
     "start_time": "2022-07-17T15:26:14.477606",
     "status": "completed"
    },
    "tags": []
   },
   "source": [
    "Aspect-based sentiment analysis (ABSA) is a text analysis technique that categorizes data by aspect and identifies the sentiment attributed to each one\n",
    "- Sentiments: positive or negative or neutral opinions about a particular aspect\n",
    "- Aspects: the category, feature, or topic that is being talked about\n",
    "\n",
    "BERT (Bidirectional Embedding Representations from Transformers) is a new model for pre-training language representations that obtains state-of-the-art results on many NLP tasks. \n",
    "\n",
    "DistilBERT is a transformers model, smaller and faster than BERT, which was pretrained on the same corpus in a self-supervised fashion, using the BERT base model as a teacher. This means it was pretrained on the raw texts only, with no humans labelling them in any way (which is why it can use lots of publicly available data) with an automatic process to generate inputs and labels from those texts using the BERT base model."
   ]
  },
  {
   "cell_type": "code",
   "execution_count": 1,
   "id": "d1955774",
   "metadata": {
    "execution": {
     "iopub.execute_input": "2022-07-17T15:26:14.550111Z",
     "iopub.status.busy": "2022-07-17T15:26:14.548967Z",
     "iopub.status.idle": "2022-07-17T15:26:20.682323Z",
     "shell.execute_reply": "2022-07-17T15:26:20.681601Z",
     "shell.execute_reply.started": "2022-07-17T14:22:41.563656Z"
    },
    "id": "4spJ5PRhGJ1l",
    "papermill": {
     "duration": 6.159365,
     "end_time": "2022-07-17T15:26:20.682493",
     "exception": false,
     "start_time": "2022-07-17T15:26:14.523128",
     "status": "completed"
    },
    "tags": []
   },
   "outputs": [
    {
     "name": "stderr",
     "output_type": "stream",
     "text": [
      "2022-07-17 15:26:15.298323: W tensorflow/stream_executor/platform/default/dso_loader.cc:60] Could not load dynamic library 'libcudart.so.11.0'; dlerror: libcudart.so.11.0: cannot open shared object file: No such file or directory; LD_LIBRARY_PATH: /opt/conda/lib\n",
      "2022-07-17 15:26:15.298435: I tensorflow/stream_executor/cuda/cudart_stub.cc:29] Ignore above cudart dlerror if you do not have a GPU set up on your machine.\n"
     ]
    }
   ],
   "source": [
    "import tensorflow as tf\n",
    "from tensorflow import keras\n",
    "import numpy as np\n",
    "from tensorflow.keras.layers import Lambda, GlobalAveragePooling1D, Dense, Embedding\n",
    "from tensorflow.keras import backend as K\n",
    "from tensorflow.keras.models import Sequential\n",
    "import matplotlib.pyplot as plt\n",
    "\n",
    "from tensorflow.keras.layers import LSTM, RNN, Dropout, Input, LeakyReLU, Bidirectional,Conv1D, GlobalMaxPooling1D\n",
    "from tensorflow.keras.layers import Dense\n",
    "from tensorflow.keras.models import Model\n"
   ]
  },
  {
   "cell_type": "markdown",
   "id": "634a9391",
   "metadata": {
    "id": "2oimYsLssuSs",
    "papermill": {
     "duration": 0.023734,
     "end_time": "2022-07-17T15:26:20.729499",
     "exception": false,
     "start_time": "2022-07-17T15:26:20.705765",
     "status": "completed"
    },
    "tags": []
   },
   "source": [
    "Install the huggingface transformer package."
   ]
  },
  {
   "cell_type": "code",
   "execution_count": 2,
   "id": "b89ae801",
   "metadata": {
    "execution": {
     "iopub.execute_input": "2022-07-17T15:26:20.782355Z",
     "iopub.status.busy": "2022-07-17T15:26:20.781570Z",
     "iopub.status.idle": "2022-07-17T15:26:29.978874Z",
     "shell.execute_reply": "2022-07-17T15:26:29.978228Z",
     "shell.execute_reply.started": "2022-07-17T14:22:45.250182Z"
    },
    "id": "AElpzsKFiZSo",
    "outputId": "06aab412-4f7f-484b-b448-421a71d3d004",
    "papermill": {
     "duration": 9.22591,
     "end_time": "2022-07-17T15:26:29.979014",
     "exception": false,
     "start_time": "2022-07-17T15:26:20.753104",
     "status": "completed"
    },
    "tags": []
   },
   "outputs": [
    {
     "name": "stdout",
     "output_type": "stream",
     "text": [
      "Requirement already satisfied: transformers in /opt/conda/lib/python3.7/site-packages (4.5.1)\r\n",
      "Requirement already satisfied: tokenizers<0.11,>=0.10.1 in /opt/conda/lib/python3.7/site-packages (from transformers) (0.10.3)\r\n",
      "Requirement already satisfied: regex!=2019.12.17 in /opt/conda/lib/python3.7/site-packages (from transformers) (2021.8.3)\r\n",
      "Requirement already satisfied: sacremoses in /opt/conda/lib/python3.7/site-packages (from transformers) (0.0.45)\r\n",
      "Requirement already satisfied: requests in /opt/conda/lib/python3.7/site-packages (from transformers) (2.25.1)\r\n",
      "Requirement already satisfied: filelock in /opt/conda/lib/python3.7/site-packages (from transformers) (3.0.12)\r\n",
      "Requirement already satisfied: numpy>=1.17 in /opt/conda/lib/python3.7/site-packages (from transformers) (1.19.5)\r\n",
      "Requirement already satisfied: tqdm>=4.27 in /opt/conda/lib/python3.7/site-packages (from transformers) (4.62.1)\r\n",
      "Requirement already satisfied: importlib-metadata in /opt/conda/lib/python3.7/site-packages (from transformers) (3.4.0)\r\n",
      "Requirement already satisfied: packaging in /opt/conda/lib/python3.7/site-packages (from transformers) (21.0)\r\n",
      "Requirement already satisfied: typing-extensions>=3.6.4 in /opt/conda/lib/python3.7/site-packages (from importlib-metadata->transformers) (3.7.4.3)\r\n",
      "Requirement already satisfied: zipp>=0.5 in /opt/conda/lib/python3.7/site-packages (from importlib-metadata->transformers) (3.5.0)\r\n",
      "Requirement already satisfied: pyparsing>=2.0.2 in /opt/conda/lib/python3.7/site-packages (from packaging->transformers) (2.4.7)\r\n",
      "Requirement already satisfied: urllib3<1.27,>=1.21.1 in /opt/conda/lib/python3.7/site-packages (from requests->transformers) (1.26.6)\r\n",
      "Requirement already satisfied: chardet<5,>=3.0.2 in /opt/conda/lib/python3.7/site-packages (from requests->transformers) (4.0.0)\r\n",
      "Requirement already satisfied: certifi>=2017.4.17 in /opt/conda/lib/python3.7/site-packages (from requests->transformers) (2021.5.30)\r\n",
      "Requirement already satisfied: idna<3,>=2.5 in /opt/conda/lib/python3.7/site-packages (from requests->transformers) (2.10)\r\n",
      "Requirement already satisfied: six in /opt/conda/lib/python3.7/site-packages (from sacremoses->transformers) (1.15.0)\r\n",
      "Requirement already satisfied: click in /opt/conda/lib/python3.7/site-packages (from sacremoses->transformers) (8.0.1)\r\n",
      "Requirement already satisfied: joblib in /opt/conda/lib/python3.7/site-packages (from sacremoses->transformers) (1.0.1)\r\n",
      "\u001b[33mWARNING: Running pip as the 'root' user can result in broken permissions and conflicting behaviour with the system package manager. It is recommended to use a virtual environment instead: https://pip.pypa.io/warnings/venv\u001b[0m\r\n"
     ]
    }
   ],
   "source": [
    "!pip install transformers"
   ]
  },
  {
   "cell_type": "markdown",
   "id": "718c6f1e",
   "metadata": {
    "id": "ebbamBD0xu5z",
    "papermill": {
     "duration": 0.024257,
     "end_time": "2022-07-17T15:26:30.027850",
     "exception": false,
     "start_time": "2022-07-17T15:26:30.003593",
     "status": "completed"
    },
    "tags": []
   },
   "source": [
    "## Preprocessing and Tokenization"
   ]
  },
  {
   "cell_type": "markdown",
   "id": "7cfb686e",
   "metadata": {
    "id": "V-cUTxt02dQb",
    "papermill": {
     "duration": 0.02406,
     "end_time": "2022-07-17T15:26:30.076380",
     "exception": false,
     "start_time": "2022-07-17T15:26:30.052320",
     "status": "completed"
    },
    "tags": []
   },
   "source": [
    "Before using DistilBERT or BERT, we need a tokenizer. Generally speaking, every BERT related model has its own tokenizer, trained for that model. \n",
    "We can get the DistilBERT tokenizer from **DistilBertTokenizer.from_pretrained** function."
   ]
  },
  {
   "cell_type": "code",
   "execution_count": 3,
   "id": "28d4e083",
   "metadata": {
    "execution": {
     "iopub.execute_input": "2022-07-17T15:26:30.134451Z",
     "iopub.status.busy": "2022-07-17T15:26:30.133740Z",
     "iopub.status.idle": "2022-07-17T15:26:32.265829Z",
     "shell.execute_reply": "2022-07-17T15:26:32.265248Z",
     "shell.execute_reply.started": "2022-07-17T14:31:36.864178Z"
    },
    "id": "hKj6Y_TydjeS",
    "outputId": "5c4ad52b-e750-4f0b-8081-4df508f34dee",
    "papermill": {
     "duration": 2.16527,
     "end_time": "2022-07-17T15:26:32.265977",
     "exception": false,
     "start_time": "2022-07-17T15:26:30.100707",
     "status": "completed"
    },
    "tags": []
   },
   "outputs": [
    {
     "data": {
      "application/vnd.jupyter.widget-view+json": {
       "model_id": "7c4eb212b7c34190bf67f59a211db3be",
       "version_major": 2,
       "version_minor": 0
      },
      "text/plain": [
       "Downloading:   0%|          | 0.00/232k [00:00<?, ?B/s]"
      ]
     },
     "metadata": {},
     "output_type": "display_data"
    },
    {
     "data": {
      "application/vnd.jupyter.widget-view+json": {
       "model_id": "1367da7b0f8145108d7b6de21b6f5b43",
       "version_major": 2,
       "version_minor": 0
      },
      "text/plain": [
       "Downloading:   0%|          | 0.00/28.0 [00:00<?, ?B/s]"
      ]
     },
     "metadata": {},
     "output_type": "display_data"
    },
    {
     "data": {
      "application/vnd.jupyter.widget-view+json": {
       "model_id": "26d1bdfe567e42c89c0fe92b6292c24f",
       "version_major": 2,
       "version_minor": 0
      },
      "text/plain": [
       "Downloading:   0%|          | 0.00/466k [00:00<?, ?B/s]"
      ]
     },
     "metadata": {},
     "output_type": "display_data"
    }
   ],
   "source": [
    "from transformers import DistilBertTokenizer \n",
    "import tqdm\n",
    "distil_bert = 'distilbert-base-uncased' # Pick any desired pre-trained model\n",
    "\n",
    "# Defining DistilBERT tokonizer\n",
    "tokenizer = DistilBertTokenizer.from_pretrained(distil_bert, do_lower_case=True, add_special_tokens=True,\n",
    "                                                max_length=128, pad_to_max_length=True)\n",
    "\n",
    "def tokenize(sentences, tokenizer, pad_length=128, pad_to_max_length=True ):\n",
    "    if type(sentences) == str:\n",
    "        inputs = tokenizer.encode_plus(sentences, add_special_tokens=True, max_length=pad_length, pad_to_max_length=pad_to_max_length, \n",
    "                                             return_attention_mask=True, return_token_type_ids=True)\n",
    "        return np.asarray(inputs['input_ids'], dtype='int32'), np.asarray(inputs['attention_mask'], dtype='int32'), np.asarray(inputs['token_type_ids'], dtype='int32')\n",
    "    input_ids, input_masks, input_segments = [],[],[]\n",
    "    for sentence in sentences:\n",
    "        inputs = tokenizer.encode_plus(sentence, add_special_tokens=True, max_length=pad_length, pad_to_max_length=pad_to_max_length, \n",
    "                                             return_attention_mask=True, return_token_type_ids=True)\n",
    "        input_ids.append(inputs['input_ids'])\n",
    "        input_masks.append(inputs['attention_mask'])\n",
    "        input_segments.append(inputs['token_type_ids'])        \n",
    "        \n",
    "    return np.asarray(input_ids, dtype='int32'), np.asarray(input_masks, dtype='int32'), np.asarray(input_segments, dtype='int32')\n"
   ]
  },
  {
   "cell_type": "code",
   "execution_count": 4,
   "id": "d32fd8f8",
   "metadata": {
    "execution": {
     "iopub.execute_input": "2022-07-17T15:26:32.329648Z",
     "iopub.status.busy": "2022-07-17T15:26:32.328769Z",
     "iopub.status.idle": "2022-07-17T15:26:32.344010Z",
     "shell.execute_reply": "2022-07-17T15:26:32.344516Z",
     "shell.execute_reply.started": "2022-07-17T14:31:40.187812Z"
    },
    "id": "iRoKe2DKyi41",
    "outputId": "193495b7-13f6-4317-f193-f4ed1f23117a",
    "papermill": {
     "duration": 0.052269,
     "end_time": "2022-07-17T15:26:32.344709",
     "exception": false,
     "start_time": "2022-07-17T15:26:32.292440",
     "status": "completed"
    },
    "tags": []
   },
   "outputs": [
    {
     "name": "stderr",
     "output_type": "stream",
     "text": [
      "Truncation was not explicitly activated but `max_length` is provided a specific value, please use `truncation=True` to explicitly truncate examples to max length. Defaulting to 'longest_first' truncation strategy. If you encode pairs of sequences (GLUE-style) with the tokenizer you can select this strategy more precisely by providing a specific strategy to `truncation`.\n"
     ]
    },
    {
     "name": "stdout",
     "output_type": "stream",
     "text": [
      "['the', 'capital', 'of', 'france', 'is', '[MASK]', '.'] \n",
      "\n",
      "['this', 'is', 'a', 'pre', '##train', '##ed', 'model', '.'] \n",
      "\n",
      "[ 101 1996 3007 1997 2605 2003  103 1012  102    0    0    0    0    0\n",
      "    0    0    0    0    0    0    0    0    0    0    0    0    0    0\n",
      "    0    0    0    0    0    0    0    0    0    0    0    0    0    0\n",
      "    0    0    0    0    0    0    0    0    0    0    0    0    0    0\n",
      "    0    0    0    0    0    0    0    0    0    0    0    0    0    0\n",
      "    0    0    0    0    0    0    0    0    0    0    0    0    0    0\n",
      "    0    0    0    0    0    0    0    0    0    0    0    0    0    0\n",
      "    0    0    0    0    0    0    0    0    0    0    0    0    0    0\n",
      "    0    0    0    0    0    0    0    0    0    0    0    0    0    0\n",
      "    0    0]\n",
      "[1 1 1 1 1 1 1 1 1 0 0 0 0 0 0 0 0 0 0 0 0 0 0 0 0 0 0 0 0 0 0 0 0 0 0 0 0\n",
      " 0 0 0 0 0 0 0 0 0 0 0 0 0 0 0 0 0 0 0 0 0 0 0 0 0 0 0 0 0 0 0 0 0 0 0 0 0\n",
      " 0 0 0 0 0 0 0 0 0 0 0 0 0 0 0 0 0 0 0 0 0 0 0 0 0 0 0 0 0 0 0 0 0 0 0 0 0\n",
      " 0 0 0 0 0 0 0 0 0 0 0 0 0 0 0 0 0]\n",
      "[0 0 0 0 0 0 0 0 0 0 0 0 0 0 0 0 0 0 0 0 0 0 0 0 0 0 0 0 0 0 0 0 0 0 0 0 0\n",
      " 0 0 0 0 0 0 0 0 0 0 0 0 0 0 0 0 0 0 0 0 0 0 0 0 0 0 0 0 0 0 0 0 0 0 0 0 0\n",
      " 0 0 0 0 0 0 0 0 0 0 0 0 0 0 0 0 0 0 0 0 0 0 0 0 0 0 0 0 0 0 0 0 0 0 0 0 0\n",
      " 0 0 0 0 0 0 0 0 0 0 0 0 0 0 0 0 0]\n",
      "['[CLS]', 'the', 'capital', 'of', 'france', 'is', '[MASK]', '.', '[SEP]', '[PAD]', '[PAD]', '[PAD]', '[PAD]', '[PAD]', '[PAD]', '[PAD]', '[PAD]', '[PAD]', '[PAD]', '[PAD]', '[PAD]', '[PAD]', '[PAD]', '[PAD]', '[PAD]', '[PAD]', '[PAD]', '[PAD]', '[PAD]', '[PAD]', '[PAD]', '[PAD]', '[PAD]', '[PAD]', '[PAD]', '[PAD]', '[PAD]', '[PAD]', '[PAD]', '[PAD]', '[PAD]', '[PAD]', '[PAD]', '[PAD]', '[PAD]', '[PAD]', '[PAD]', '[PAD]', '[PAD]', '[PAD]', '[PAD]', '[PAD]', '[PAD]', '[PAD]', '[PAD]', '[PAD]', '[PAD]', '[PAD]', '[PAD]', '[PAD]', '[PAD]', '[PAD]', '[PAD]', '[PAD]', '[PAD]', '[PAD]', '[PAD]', '[PAD]', '[PAD]', '[PAD]', '[PAD]', '[PAD]', '[PAD]', '[PAD]', '[PAD]', '[PAD]', '[PAD]', '[PAD]', '[PAD]', '[PAD]', '[PAD]', '[PAD]', '[PAD]', '[PAD]', '[PAD]', '[PAD]', '[PAD]', '[PAD]', '[PAD]', '[PAD]', '[PAD]', '[PAD]', '[PAD]', '[PAD]', '[PAD]', '[PAD]', '[PAD]', '[PAD]', '[PAD]', '[PAD]', '[PAD]', '[PAD]', '[PAD]', '[PAD]', '[PAD]', '[PAD]', '[PAD]', '[PAD]', '[PAD]', '[PAD]', '[PAD]', '[PAD]', '[PAD]', '[PAD]', '[PAD]', '[PAD]', '[PAD]', '[PAD]', '[PAD]', '[PAD]', '[PAD]', '[PAD]', '[PAD]', '[PAD]', '[PAD]', '[PAD]', '[PAD]', '[PAD]'] \n",
      "\n",
      "[ 101 1996 3007 1997 2605 2003  103 1012  102]\n",
      "[1 1 1 1 1 1 1 1 1]\n",
      "['[CLS]', 'the', 'capital', 'of', 'france', 'is', '[MASK]', '.', '[SEP]'] \n",
      "\n"
     ]
    },
    {
     "name": "stderr",
     "output_type": "stream",
     "text": [
      "/opt/conda/lib/python3.7/site-packages/transformers/tokenization_utils_base.py:2079: FutureWarning: The `pad_to_max_length` argument is deprecated and will be removed in a future version, use `padding=True` or `padding='longest'` to pad to the longest sequence in the batch, or use `padding='max_length'` to pad to a max length. In this case, you can give a specific length with `max_length` (e.g. `max_length=45`) or leave max_length to None to pad to the maximal input size of the model (e.g. 512 for Bert).\n",
      "  FutureWarning,\n"
     ]
    }
   ],
   "source": [
    "inputs = tokenizer.tokenize(\"The capital of France is [MASK].\")\n",
    "print(inputs,'\\n')\n",
    "\n",
    "inputs = tokenizer.tokenize(\"This is a pretrained model.\")\n",
    "print(inputs,'\\n')\n",
    "\n",
    "ids,masks,segments = tokenize(\"The capital of France is [MASK].\", tokenizer)\n",
    "print(ids) # specific ids of each token in the sentence\n",
    "print(masks) # attention mask- which token to attend to. 1-attend to, 0-don't attend, padding\n",
    "print(segments) # sentence segments-[sent1,sent2]-> [0,0,0,0,1,1,1,1]\n",
    "print(tokenizer.convert_ids_to_tokens(ids),\"\\n\") # [CLS] tag is used by BERT for classification tasks\n",
    "\n",
    "ids,masks,segments = tokenize(\"The capital of France is [MASK].\", tokenizer, pad_to_max_length=False)\n",
    "print(ids)\n",
    "print(masks)\n",
    "print(tokenizer.convert_ids_to_tokens(ids),\"\\n\")"
   ]
  },
  {
   "cell_type": "markdown",
   "id": "cad7cb46",
   "metadata": {
    "id": "J6OuZAA8sbdg",
    "papermill": {
     "duration": 0.026345,
     "end_time": "2022-07-17T15:26:32.397623",
     "exception": false,
     "start_time": "2022-07-17T15:26:32.371278",
     "status": "completed"
    },
    "tags": []
   },
   "source": [
    "## Downloading and preprocessing data"
   ]
  },
  {
   "cell_type": "markdown",
   "id": "9994eef5",
   "metadata": {
    "papermill": {
     "duration": 0.026281,
     "end_time": "2022-07-17T15:26:32.450618",
     "exception": false,
     "start_time": "2022-07-17T15:26:32.424337",
     "status": "completed"
    },
    "tags": []
   },
   "source": [
    "The dataset used is the aspect-term sentiment analysis (ATSA) dataset, which consists of 12522 labeled reviews. These are split into 11186 reviews for training and 1336 reviews for testing and validation, respectively. \n",
    "\n",
    "For ATSA, the annotators extract aspect terms in the sentences and label the sentiment polarities with respect to the  aspect  terms.   The  sentences  that  consist  of only one aspect term or multiple aspects with the same  sentiment  polarities  are  deleted.  ATSA also provides the start and end positions in a sentence for each aspect term."
   ]
  },
  {
   "cell_type": "code",
   "execution_count": 5,
   "id": "4a77547f",
   "metadata": {
    "execution": {
     "iopub.execute_input": "2022-07-17T15:26:32.517420Z",
     "iopub.status.busy": "2022-07-17T15:26:32.516698Z",
     "iopub.status.idle": "2022-07-17T15:26:33.641231Z",
     "shell.execute_reply": "2022-07-17T15:26:33.641730Z",
     "shell.execute_reply.started": "2022-07-17T14:32:44.151265Z"
    },
    "id": "NyuSzkafqNca",
    "outputId": "64b766c2-0047-46fc-8a3f-1d976f3b14e4",
    "papermill": {
     "duration": 1.164619,
     "end_time": "2022-07-17T15:26:33.641908",
     "exception": false,
     "start_time": "2022-07-17T15:26:32.477289",
     "status": "completed"
    },
    "tags": []
   },
   "outputs": [
    {
     "name": "stdout",
     "output_type": "stream",
     "text": [
      "Training entries: 11186\n",
      "Test entries: 1336\n"
     ]
    }
   ],
   "source": [
    "import requests\n",
    "def downloadfile(url):\n",
    "  rq = requests.get(url)\n",
    "  open(url.split('/')[-1], 'wb').write(rq.content)\n",
    "downloadfile('https://raw.githubusercontent.com/siat-nlp/MAMS-for-ABSA/master/data/MAMS-ATSA/raw/train.xml')\n",
    "downloadfile('https://raw.githubusercontent.com/siat-nlp/MAMS-for-ABSA/master/data/MAMS-ATSA/raw/val.xml')\n",
    "downloadfile('https://raw.githubusercontent.com/siat-nlp/MAMS-for-ABSA/master/data/MAMS-ATSA/raw/test.xml')\n",
    "\n",
    "\n",
    "# The code is modified from https://raw.githubusercontent.com/siat-nlp/MAMS-for-ABSA/master/data_process/utils.py\n",
    "from xml.etree.ElementTree import parse\n",
    "\n",
    "def parse_sentence_term(path, lowercase=False):\n",
    "    tree = parse(path)\n",
    "    sentences = tree.getroot()\n",
    "    data = []\n",
    "    split_char = '__split__'\n",
    "    for sentence in sentences:\n",
    "        text = sentence.find('text')\n",
    "        if text is None:\n",
    "            continue\n",
    "        text = text.text\n",
    "        if lowercase:\n",
    "            text = text.lower()\n",
    "        aspectTerms = sentence.find('aspectTerms')\n",
    "        if aspectTerms is None:\n",
    "            continue\n",
    "        for aspectTerm in aspectTerms:\n",
    "            term = aspectTerm.get('term')\n",
    "            if lowercase:\n",
    "                term = term.lower()\n",
    "            polarity = aspectTerm.get('polarity')\n",
    "            start = aspectTerm.get('from')\n",
    "            end = aspectTerm.get('to')\n",
    "            piece = [text , term,  polarity , start , end]\n",
    "            data.append(piece)\n",
    "    return data\n",
    "train = parse_sentence_term(\"train.xml\",True)\n",
    "dev = parse_sentence_term(\"val.xml\",True)\n",
    "test = parse_sentence_term(\"test.xml\",True)\n",
    "\n",
    "print(\"Training entries: {}\".format(len(train)))\n",
    "print(\"Test entries: {}\".format(len(test)))\n"
   ]
  },
  {
   "cell_type": "markdown",
   "id": "6a951952",
   "metadata": {
    "id": "6U4iCV9-rmay",
    "papermill": {
     "duration": 0.02703,
     "end_time": "2022-07-17T15:26:33.696514",
     "exception": false,
     "start_time": "2022-07-17T15:26:33.669484",
     "status": "completed"
    },
    "tags": []
   },
   "source": [
    "We now can start playing around with the data, let’s first see some examples:"
   ]
  },
  {
   "cell_type": "code",
   "execution_count": 6,
   "id": "83b99a8a",
   "metadata": {
    "execution": {
     "iopub.execute_input": "2022-07-17T15:26:33.758742Z",
     "iopub.status.busy": "2022-07-17T15:26:33.757840Z",
     "iopub.status.idle": "2022-07-17T15:26:33.761734Z",
     "shell.execute_reply": "2022-07-17T15:26:33.761108Z",
     "shell.execute_reply.started": "2022-07-17T14:47:51.677327Z"
    },
    "id": "h-gjWRAuqg5s",
    "outputId": "e46fb40c-1aeb-4390-ba08-a2e5d15340f8",
    "papermill": {
     "duration": 0.037073,
     "end_time": "2022-07-17T15:26:33.761870",
     "exception": false,
     "start_time": "2022-07-17T15:26:33.724797",
     "status": "completed"
    },
    "tags": []
   },
   "outputs": [
    {
     "name": "stdout",
     "output_type": "stream",
     "text": [
      "SENTENCE \t ASPECT \t LABLE \t ASPECT-START-INDEX \t ASPECT-END-INDEX\n",
      "['the decor is not special at all but their food and amazing prices make up for it.', 'decor', 'negative', '4', '9']\n",
      "['the decor is not special at all but their food and amazing prices make up for it.', 'food', 'positive', '42', '46']\n",
      "['the decor is not special at all but their food and amazing prices make up for it.', 'prices', 'positive', '59', '65']\n",
      "['when tables opened up, the manager sat another party before us.', 'tables', 'neutral', '5', '11']\n",
      "['when tables opened up, the manager sat another party before us.', 'manager', 'negative', '27', '34']\n"
     ]
    }
   ],
   "source": [
    "print(\"SENTENCE \\t ASPECT \\t LABLE \\t ASPECT-START-INDEX \\t ASPECT-END-INDEX\")\n",
    "print(train[0])\n",
    "print(train[1])\n",
    "print(train[2])\n",
    "print(train[3])\n",
    "print(train[4])"
   ]
  },
  {
   "cell_type": "markdown",
   "id": "73ff351f",
   "metadata": {
    "id": "Tvuu4KhStqei",
    "papermill": {
     "duration": 0.027433,
     "end_time": "2022-07-17T15:26:33.817560",
     "exception": false,
     "start_time": "2022-07-17T15:26:33.790127",
     "status": "completed"
    },
    "tags": []
   },
   "source": [
    "According to the BERT tokenize function above, we can convert the tweet text and topic words to integers:\n"
   ]
  },
  {
   "cell_type": "code",
   "execution_count": 7,
   "id": "3d58be68",
   "metadata": {
    "execution": {
     "iopub.execute_input": "2022-07-17T15:26:33.898672Z",
     "iopub.status.busy": "2022-07-17T15:26:33.897648Z",
     "iopub.status.idle": "2022-07-17T15:26:53.016836Z",
     "shell.execute_reply": "2022-07-17T15:26:53.017515Z",
     "shell.execute_reply.started": "2022-07-17T14:49:15.323516Z"
    },
    "id": "gMCH1OoDrSNR",
    "outputId": "2a5adde6-1b15-40a7-d56c-5a21ce3a6dbe",
    "papermill": {
     "duration": 19.172382,
     "end_time": "2022-07-17T15:26:53.017753",
     "exception": false,
     "start_time": "2022-07-17T15:26:33.845371",
     "status": "completed"
    },
    "tags": []
   },
   "outputs": [
    {
     "name": "stdout",
     "output_type": "stream",
     "text": [
      "x_dev_aspect_int[0]:\n",
      "[ 101 8974  102    0    0    0    0    0    0    0    0    0    0    0\n",
      "    0    0    0    0    0    0    0    0    0    0    0    0    0    0\n",
      "    0    0    0    0    0    0    0    0    0    0    0    0    0    0\n",
      "    0    0    0    0    0    0    0    0    0    0    0    0    0    0\n",
      "    0    0    0    0    0    0    0    0    0    0    0    0    0    0\n",
      "    0    0    0    0    0    0    0    0    0    0    0    0    0    0\n",
      "    0    0    0    0    0    0    0    0    0    0    0    0    0    0\n",
      "    0    0    0    0    0    0    0    0    0    0    0    0    0    0\n",
      "    0    0    0    0    0    0    0    0    0    0    0    0    0    0\n",
      "    0    0]\n",
      "x_dev_aspect_masks[0]:\n",
      "[1 1 1 0 0 0 0 0 0 0 0 0 0 0 0 0 0 0 0 0 0 0 0 0 0 0 0 0 0 0 0 0 0 0 0 0 0\n",
      " 0 0 0 0 0 0 0 0 0 0 0 0 0 0 0 0 0 0 0 0 0 0 0 0 0 0 0 0 0 0 0 0 0 0 0 0 0\n",
      " 0 0 0 0 0 0 0 0 0 0 0 0 0 0 0 0 0 0 0 0 0 0 0 0 0 0 0 0 0 0 0 0 0 0 0 0 0\n",
      " 0 0 0 0 0 0 0 0 0 0 0 0 0 0 0 0 0]\n",
      "x_dev_review_int[0]:\n",
      "[  101  2044  1037  3232  1997  8974  1010  1996 18726  1011  1011  1045\n",
      "  2066  1996 27940  1013 24792  2621  4897  1998  1996 13675 11514  6508\n",
      " 26852  1011  1011  2175  2091  2307  1012   102     0     0     0     0\n",
      "     0     0     0     0     0     0     0     0     0     0     0     0\n",
      "     0     0     0     0     0     0     0     0     0     0     0     0\n",
      "     0     0     0     0     0     0     0     0     0     0     0     0\n",
      "     0     0     0     0     0     0     0     0     0     0     0     0\n",
      "     0     0     0     0     0     0     0     0     0     0     0     0\n",
      "     0     0     0     0     0     0     0     0     0     0     0     0\n",
      "     0     0     0     0     0     0     0     0     0     0     0     0\n",
      "     0     0     0     0     0     0     0     0]\n",
      "x_dev_review_masks[0]:\n",
      "[1 1 1 1 1 1 1 1 1 1 1 1 1 1 1 1 1 1 1 1 1 1 1 1 1 1 1 1 1 1 1 1 0 0 0 0 0\n",
      " 0 0 0 0 0 0 0 0 0 0 0 0 0 0 0 0 0 0 0 0 0 0 0 0 0 0 0 0 0 0 0 0 0 0 0 0 0\n",
      " 0 0 0 0 0 0 0 0 0 0 0 0 0 0 0 0 0 0 0 0 0 0 0 0 0 0 0 0 0 0 0 0 0 0 0 0 0\n",
      " 0 0 0 0 0 0 0 0 0 0 0 0 0 0 0 0 0]\n"
     ]
    }
   ],
   "source": [
    "train_sentences, train_aspect = [i[0] for i in train], [i[1] for i in train]\n",
    "dev_sentences, dev_aspect = [i[0] for i in dev], [i[1] for i in dev]\n",
    "test_sentences, test_aspect = [i[0] for i in test], [i[1] for i in test]\n",
    "\n",
    "x_train_review_int, x_train_review_masks, _ = tokenize(train_sentences, tokenizer)\n",
    "x_train_aspect_int, x_train_aspect_masks, _ = tokenize(train_aspect, tokenizer)\n",
    "\n",
    "x_dev_review_int, x_dev_review_masks, _ = tokenize(dev_sentences, tokenizer)\n",
    "x_dev_aspect_int, x_dev_aspect_masks, _ = tokenize(dev_aspect, tokenizer)\n",
    "\n",
    "x_test_review_int, x_test_review_masks, _ = tokenize(test_sentences, tokenizer)\n",
    "x_test_aspect_int, x_test_aspect_masks, _ = tokenize(test_aspect, tokenizer)\n",
    "\n",
    "assert len(x_train_aspect_int) == len(train)\n",
    "assert len(x_train_aspect_masks) == len(x_train_aspect_int)\n",
    "assert len(x_test_aspect_int) == len(test)\n",
    "assert len(x_test_aspect_masks) == len(x_test_aspect_int)\n",
    "print(\"x_dev_aspect_int[0]:\")\n",
    "print(x_dev_aspect_int[0])\n",
    "print(\"x_dev_aspect_masks[0]:\")\n",
    "print(x_dev_aspect_masks[0])\n",
    "print(\"x_dev_review_int[0]:\")\n",
    "print(x_dev_review_int[0])\n",
    "print(\"x_dev_review_masks[0]:\")\n",
    "print(x_dev_review_masks[0])"
   ]
  },
  {
   "cell_type": "markdown",
   "id": "447faf12",
   "metadata": {
    "id": "5IreFXgruZot",
    "papermill": {
     "duration": 0.027653,
     "end_time": "2022-07-17T15:26:53.074238",
     "exception": false,
     "start_time": "2022-07-17T15:26:53.046585",
     "status": "completed"
    },
    "tags": []
   },
   "source": [
    "One-hot encode the labels, using 4 (Binary:100) to represent \"positive\", 2 (Binary:010) for \"neutral\", and 1 (Binary:001) for \"negative\". Then we can convert the labels to numbers."
   ]
  },
  {
   "cell_type": "code",
   "execution_count": 8,
   "id": "f6a9faea",
   "metadata": {
    "execution": {
     "iopub.execute_input": "2022-07-17T15:26:53.134438Z",
     "iopub.status.busy": "2022-07-17T15:26:53.133426Z",
     "iopub.status.idle": "2022-07-17T15:26:53.181028Z",
     "shell.execute_reply": "2022-07-17T15:26:53.180393Z",
     "shell.execute_reply.started": "2022-07-17T14:49:42.178687Z"
    },
    "id": "abIb7Fe5u3GQ",
    "outputId": "017df598-a7e7-4e41-edb1-d0b00033f350",
    "papermill": {
     "duration": 0.078751,
     "end_time": "2022-07-17T15:26:53.181212",
     "exception": false,
     "start_time": "2022-07-17T15:26:53.102461",
     "status": "completed"
    },
    "tags": []
   },
   "outputs": [
    {
     "name": "stdout",
     "output_type": "stream",
     "text": [
      "[0 0 1]\n",
      "[1 0 0]\n",
      "[1 0 0]\n",
      "[0 1 0]\n",
      "[0 0 1]\n"
     ]
    }
   ],
   "source": [
    "def label2int(dataset):\n",
    "  y = []\n",
    "  for example in dataset:\n",
    "    if example[2].lower() == \"negative\":\n",
    "      y.append([0,0,1])\n",
    "    elif example[2].lower() == \"neutral\":\n",
    "      y.append([0,1,0])\n",
    "    else:\n",
    "      # assert example[2].lower() == \"positive\"\n",
    "      y.append([1,0,0])\n",
    "  return y\n",
    "  \n",
    "y_train = label2int(train)\n",
    "y_dev = label2int(dev)\n",
    "y_test = label2int(test)\n",
    "y_train = np.array(y_train)\n",
    "y_dev = np.array(y_dev)\n",
    "y_test = np.array(y_test)\n",
    "\n",
    "print(y_train[0])\n",
    "print(y_train[1])\n",
    "print(y_train[2])\n",
    "print(y_train[3])\n",
    "print(y_train[4])"
   ]
  },
  {
   "cell_type": "markdown",
   "id": "e277f227",
   "metadata": {
    "id": "9TnnSuspvC5b",
    "papermill": {
     "duration": 0.028032,
     "end_time": "2022-07-17T15:26:53.238454",
     "exception": false,
     "start_time": "2022-07-17T15:26:53.210422",
     "status": "completed"
    },
    "tags": []
   },
   "source": [
    "There are two x (review and aspect) to input the model. Combine the review and aspect into one sentence and then input it into the model."
   ]
  },
  {
   "cell_type": "code",
   "execution_count": 9,
   "id": "e1a0158b",
   "metadata": {
    "execution": {
     "iopub.execute_input": "2022-07-17T15:26:53.298747Z",
     "iopub.status.busy": "2022-07-17T15:26:53.297944Z",
     "iopub.status.idle": "2022-07-17T15:26:53.307931Z",
     "shell.execute_reply": "2022-07-17T15:26:53.308501Z",
     "shell.execute_reply.started": "2022-07-17T14:50:25.346470Z"
    },
    "id": "wa94vIY4FAf0",
    "outputId": "51138dc6-4993-4619-ba57-6ac34e8e34f2",
    "papermill": {
     "duration": 0.042001,
     "end_time": "2022-07-17T15:26:53.308684",
     "exception": false,
     "start_time": "2022-07-17T15:26:53.266683",
     "status": "completed"
    },
    "tags": []
   },
   "outputs": [
    {
     "data": {
      "text/plain": [
       "(array([  101,  2044,  1037,  3232,  1997,  8974,  1010,  1996, 18726,\n",
       "         1011,  1011,  1045,  2066,  1996, 27940,  1013, 24792,  2621,\n",
       "         4897,  1998,  1996, 13675, 11514,  6508, 26852,  1011,  1011,\n",
       "         2175,  2091,  2307,  1012,   102,  8974,   102,     0,     0,\n",
       "            0,     0,     0,     0,     0,     0,     0,     0,     0,\n",
       "            0,     0,     0,     0,     0,     0,     0,     0,     0,\n",
       "            0,     0,     0,     0,     0,     0,     0,     0,     0,\n",
       "            0,     0,     0,     0,     0,     0,     0,     0,     0,\n",
       "            0,     0,     0,     0,     0,     0,     0,     0,     0,\n",
       "            0,     0,     0,     0,     0,     0,     0,     0,     0,\n",
       "            0,     0,     0,     0,     0,     0,     0,     0,     0,\n",
       "            0,     0,     0,     0,     0,     0,     0,     0,     0,\n",
       "            0,     0,     0,     0,     0,     0,     0,     0,     0,\n",
       "            0,     0,     0,     0,     0,     0,     0,     0,     0,\n",
       "            0,     0], dtype=int32),\n",
       " array([1, 1, 1, 1, 1, 1, 1, 1, 1, 1, 1, 1, 1, 1, 1, 1, 1, 1, 1, 1, 1, 1,\n",
       "        1, 1, 1, 1, 1, 1, 1, 1, 1, 1, 1, 1, 0, 0, 0, 0, 0, 0, 0, 0, 0, 0,\n",
       "        0, 0, 0, 0, 0, 0, 0, 0, 0, 0, 0, 0, 0, 0, 0, 0, 0, 0, 0, 0, 0, 0,\n",
       "        0, 0, 0, 0, 0, 0, 0, 0, 0, 0, 0, 0, 0, 0, 0, 0, 0, 0, 0, 0, 0, 0,\n",
       "        0, 0, 0, 0, 0, 0, 0, 0, 0, 0, 0, 0, 0, 0, 0, 0, 0, 0, 0, 0, 0, 0,\n",
       "        0, 0, 0, 0, 0, 0, 0, 0, 0, 0, 0, 0, 0, 0, 0, 0, 0, 0], dtype=int32),\n",
       " array([0, 0, 0, 0, 0, 0, 0, 0, 0, 0, 0, 0, 0, 0, 0, 0, 0, 0, 0, 0, 0, 0,\n",
       "        0, 0, 0, 0, 0, 0, 0, 0, 0, 0, 0, 0, 0, 0, 0, 0, 0, 0, 0, 0, 0, 0,\n",
       "        0, 0, 0, 0, 0, 0, 0, 0, 0, 0, 0, 0, 0, 0, 0, 0, 0, 0, 0, 0, 0, 0,\n",
       "        0, 0, 0, 0, 0, 0, 0, 0, 0, 0, 0, 0, 0, 0, 0, 0, 0, 0, 0, 0, 0, 0,\n",
       "        0, 0, 0, 0, 0, 0, 0, 0, 0, 0, 0, 0, 0, 0, 0, 0, 0, 0, 0, 0, 0, 0,\n",
       "        0, 0, 0, 0, 0, 0, 0, 0, 0, 0, 0, 0, 0, 0, 0, 0, 0, 0], dtype=int32))"
      ]
     },
     "execution_count": 9,
     "metadata": {},
     "output_type": "execute_result"
    }
   ],
   "source": [
    "tokenize([i[0]+' [SEP] '+i[1] for i in dev][0], tokenizer)\n",
    "# tokenize('<SEP>', tokenizer)"
   ]
  },
  {
   "cell_type": "code",
   "execution_count": 10,
   "id": "dd1c92f8",
   "metadata": {
    "execution": {
     "iopub.execute_input": "2022-07-17T15:26:53.370429Z",
     "iopub.status.busy": "2022-07-17T15:26:53.369697Z",
     "iopub.status.idle": "2022-07-17T15:27:09.365517Z",
     "shell.execute_reply": "2022-07-17T15:27:09.364904Z",
     "shell.execute_reply.started": "2022-07-17T14:50:40.259082Z"
    },
    "id": "kiA4oxcQDAan",
    "outputId": "c10b3495-4f90-4606-afbe-f5d6ec640005",
    "papermill": {
     "duration": 16.027934,
     "end_time": "2022-07-17T15:27:09.365682",
     "exception": false,
     "start_time": "2022-07-17T15:26:53.337748",
     "status": "completed"
    },
    "tags": []
   },
   "outputs": [
    {
     "name": "stdout",
     "output_type": "stream",
     "text": [
      "the decor is not special at all but their food and amazing prices make up for it. [SEP] decor\n",
      "after a couple of drinks, the apps--i like the lobster/mango summer roll and the cripsy squid--go down great. [SEP] drinks\n",
      "the food was served promptly but the meal wasn't rushed - we had plenty of time to enjoy the appetizers and our entrees as well as sit and chat while finishing up our drinks even after we paid. [SEP] food\n",
      "[  101  2044  1037  3232  1997  8974  1010  1996 18726  1011  1011  1045\n",
      "  2066  1996 27940  1013 24792  2621  4897  1998  1996 13675 11514  6508\n",
      " 26852  1011  1011  2175  2091  2307  1012   102  8974   102     0     0\n",
      "     0     0     0     0     0     0     0     0     0     0     0     0\n",
      "     0     0     0     0     0     0     0     0     0     0     0     0\n",
      "     0     0     0     0     0     0     0     0     0     0     0     0\n",
      "     0     0     0     0     0     0     0     0     0     0     0     0\n",
      "     0     0     0     0     0     0     0     0     0     0     0     0\n",
      "     0     0     0     0     0     0     0     0     0     0     0     0\n",
      "     0     0     0     0     0     0     0     0     0     0     0     0\n",
      "     0     0     0     0     0     0     0     0]\n",
      "[1 1 1 1 1 1 1 1 1 1 1 1 1 1 1 1 1 1 1 1 1 1 1 1 1 1 1 1 1 1 1 1 1 1 0 0 0\n",
      " 0 0 0 0 0 0 0 0 0 0 0 0 0 0 0 0 0 0 0 0 0 0 0 0 0 0 0 0 0 0 0 0 0 0 0 0 0\n",
      " 0 0 0 0 0 0 0 0 0 0 0 0 0 0 0 0 0 0 0 0 0 0 0 0 0 0 0 0 0 0 0 0 0 0 0 0 0\n",
      " 0 0 0 0 0 0 0 0 0 0 0 0 0 0 0 0 0] \n",
      "\n",
      "[  101  2044  1037  3232  1997  8974  1010  1996 18726  1011  1011  1045\n",
      "  2066  1996 27940  1013 24792  2621  4897  1998  1996 13675 11514  6508\n",
      " 26852  1011  1011  2175  2091  2307  1012   102  8974   102     0     0\n",
      "     0     0     0     0     0     0     0     0     0     0     0     0\n",
      "     0     0     0     0     0     0     0     0     0     0     0     0\n",
      "     0     0     0     0     0     0     0     0     0     0     0     0\n",
      "     0     0     0     0     0     0     0     0     0     0     0     0\n",
      "     0     0     0     0     0     0     0     0     0     0     0     0\n",
      "     0     0     0     0     0     0     0     0     0     0     0     0\n",
      "     0     0     0     0     0     0     0     0     0     0     0     0\n",
      "     0     0     0     0     0     0     0     0]\n",
      "[1 1 1 1 1 1 1 1 1 1 1 1 1 1 1 1 1 1 1 1 1 1 1 1 1 1 1 1 1 1 1 1 1 1 0 0 0\n",
      " 0 0 0 0 0 0 0 0 0 0 0 0 0 0 0 0 0 0 0 0 0 0 0 0 0 0 0 0 0 0 0 0 0 0 0 0 0\n",
      " 0 0 0 0 0 0 0 0 0 0 0 0 0 0 0 0 0 0 0 0 0 0 0 0 0 0 0 0 0 0 0 0 0 0 0 0 0\n",
      " 0 0 0 0 0 0 0 0 0 0 0 0 0 0 0 0 0]\n"
     ]
    }
   ],
   "source": [
    "train_sentences = [i[0]+' [SEP] '+i[1] for i in train]\n",
    "print(train_sentences[0])\n",
    "dev_sentences = [i[0]+' [SEP] '+i[1] for i in dev]\n",
    "print(dev_sentences[0])\n",
    "test_sentences = [i[0]+' [SEP] '+i[1] for i in test]\n",
    "print(test_sentences[0])\n",
    "\n",
    "x_train_int, x_train_masks, _ = tokenize(train_sentences, tokenizer)\n",
    "\n",
    "x_dev_int, x_dev_masks, _ = tokenize(dev_sentences, tokenizer)\n",
    "\n",
    "x_test_int, x_test_masks, _ = tokenize(test_sentences, tokenizer)\n",
    "\n",
    "x_train_int_np = np.array(x_train_int)\n",
    "x_train_masks_np = np.array(x_train_masks)\n",
    "x_dev_int_np = np.array(x_dev_int)\n",
    "x_dev_masks_np = np.array(x_dev_masks)\n",
    "x_test_int_np = np.array(x_test_int)\n",
    "x_test_masks_np = np.array(x_test_masks)\n",
    "\n",
    "\n",
    "print(x_dev_int[0])\n",
    "print(x_dev_masks[0],'\\n')\n",
    "print(x_dev_int_np[0])\n",
    "print(x_dev_masks_np[0]) # senetnce + aspect"
   ]
  },
  {
   "cell_type": "markdown",
   "id": "a08a1fb3",
   "metadata": {
    "id": "vdZ4nl08vp9A",
    "papermill": {
     "duration": 0.029073,
     "end_time": "2022-07-17T15:27:09.424721",
     "exception": false,
     "start_time": "2022-07-17T15:27:09.395648",
     "status": "completed"
    },
    "tags": []
   },
   "source": [
    "\n",
    "## Model 1: Neural bag of words using BERT"
   ]
  },
  {
   "cell_type": "code",
   "execution_count": 11,
   "id": "30a1ee2b",
   "metadata": {
    "execution": {
     "iopub.execute_input": "2022-07-17T15:27:09.490979Z",
     "iopub.status.busy": "2022-07-17T15:27:09.490064Z",
     "iopub.status.idle": "2022-07-17T15:27:09.493055Z",
     "shell.execute_reply": "2022-07-17T15:27:09.492564Z",
     "shell.execute_reply.started": "2022-07-17T14:51:54.531511Z"
    },
    "id": "DStlnRQRf-4v",
    "papermill": {
     "duration": 0.037984,
     "end_time": "2022-07-17T15:27:09.493227",
     "exception": false,
     "start_time": "2022-07-17T15:27:09.455243",
     "status": "completed"
    },
    "tags": []
   },
   "outputs": [],
   "source": [
    "# custom averagepooling layer with masking\n",
    "class GlobalAveragePooling1DMasked(GlobalAveragePooling1D):\n",
    "    def call(self, x, mask=None):\n",
    "        if mask != None:\n",
    "            return K.sum(x, axis=1) / K.sum(mask, axis=1)\n",
    "        else:\n",
    "            return super().call(x)"
   ]
  },
  {
   "cell_type": "code",
   "execution_count": 12,
   "id": "b325c02e",
   "metadata": {
    "execution": {
     "iopub.execute_input": "2022-07-17T15:27:09.555488Z",
     "iopub.status.busy": "2022-07-17T15:27:09.554545Z",
     "iopub.status.idle": "2022-07-17T15:27:09.581811Z",
     "shell.execute_reply": "2022-07-17T15:27:09.582387Z",
     "shell.execute_reply.started": "2022-07-17T14:52:02.091025Z"
    },
    "id": "8fTwmYDvNEyT",
    "papermill": {
     "duration": 0.059789,
     "end_time": "2022-07-17T15:27:09.582559",
     "exception": false,
     "start_time": "2022-07-17T15:27:09.522770",
     "status": "completed"
    },
    "tags": []
   },
   "outputs": [],
   "source": [
    "from transformers import TFDistilBertModel, DistilBertConfig\n",
    "\n",
    "def get_BERT_layer():\n",
    "    distil_bert = 'distilbert-base-uncased'\n",
    "    config = DistilBertConfig(dropout=0.2, attention_dropout=0.2)\n",
    "    config.output_hidden_states = False\n",
    "    return TFDistilBertModel.from_pretrained(distil_bert, config = config)\n"
   ]
  },
  {
   "cell_type": "code",
   "execution_count": 13,
   "id": "6869cfeb",
   "metadata": {
    "execution": {
     "iopub.execute_input": "2022-07-17T15:27:09.655979Z",
     "iopub.status.busy": "2022-07-17T15:27:09.643863Z",
     "iopub.status.idle": "2022-07-17T15:27:50.934814Z",
     "shell.execute_reply": "2022-07-17T15:27:50.935569Z",
     "shell.execute_reply.started": "2022-07-17T14:53:09.207311Z"
    },
    "id": "VICS9rY8C7KH",
    "outputId": "93f908ad-b4b5-4801-ec69-7fde62777c25",
    "papermill": {
     "duration": 41.323961,
     "end_time": "2022-07-17T15:27:50.935921",
     "exception": false,
     "start_time": "2022-07-17T15:27:09.611960",
     "status": "completed"
    },
    "tags": []
   },
   "outputs": [
    {
     "name": "stderr",
     "output_type": "stream",
     "text": [
      "2022-07-17 15:27:09.657387: I tensorflow/compiler/jit/xla_cpu_device.cc:41] Not creating XLA devices, tf_xla_enable_xla_devices not set\n",
      "2022-07-17 15:27:09.660867: W tensorflow/stream_executor/platform/default/dso_loader.cc:60] Could not load dynamic library 'libcuda.so.1'; dlerror: libcuda.so.1: cannot open shared object file: No such file or directory; LD_LIBRARY_PATH: /opt/conda/lib\n",
      "2022-07-17 15:27:09.660909: W tensorflow/stream_executor/cuda/cuda_driver.cc:326] failed call to cuInit: UNKNOWN ERROR (303)\n",
      "2022-07-17 15:27:09.660941: I tensorflow/stream_executor/cuda/cuda_diagnostics.cc:156] kernel driver does not appear to be running on this host (578c28433959): /proc/driver/nvidia/version does not exist\n",
      "2022-07-17 15:27:09.664312: I tensorflow/core/platform/cpu_feature_guard.cc:142] This TensorFlow binary is optimized with oneAPI Deep Neural Network Library (oneDNN) to use the following CPU instructions in performance-critical operations:  AVX2 FMA\n",
      "To enable them in other operations, rebuild TensorFlow with the appropriate compiler flags.\n",
      "2022-07-17 15:27:09.665930: I tensorflow/compiler/jit/xla_gpu_device.cc:99] Not creating XLA devices, tf_xla_enable_xla_devices not set\n",
      "2022-07-17 15:27:09.671023: I tensorflow/compiler/jit/xla_gpu_device.cc:99] Not creating XLA devices, tf_xla_enable_xla_devices not set\n",
      "2022-07-17 15:27:09.700743: I tensorflow/core/distributed_runtime/rpc/grpc_channel.cc:301] Initialize GrpcChannelCache for job worker -> {0 -> 10.0.0.2:8470}\n",
      "2022-07-17 15:27:09.700795: I tensorflow/core/distributed_runtime/rpc/grpc_channel.cc:301] Initialize GrpcChannelCache for job localhost -> {0 -> localhost:30019}\n",
      "2022-07-17 15:27:09.724765: I tensorflow/core/distributed_runtime/rpc/grpc_channel.cc:301] Initialize GrpcChannelCache for job worker -> {0 -> 10.0.0.2:8470}\n",
      "2022-07-17 15:27:09.724820: I tensorflow/core/distributed_runtime/rpc/grpc_channel.cc:301] Initialize GrpcChannelCache for job localhost -> {0 -> localhost:30019}\n",
      "2022-07-17 15:27:09.726629: I tensorflow/core/distributed_runtime/rpc/grpc_server_lib.cc:411] Started server with target: grpc://localhost:30019\n"
     ]
    },
    {
     "data": {
      "application/vnd.jupyter.widget-view+json": {
       "model_id": "5e8806e49b3740569de8b228564704c3",
       "version_major": 2,
       "version_minor": 0
      },
      "text/plain": [
       "Downloading:   0%|          | 0.00/363M [00:00<?, ?B/s]"
      ]
     },
     "metadata": {},
     "output_type": "display_data"
    },
    {
     "name": "stderr",
     "output_type": "stream",
     "text": [
      "2022-07-17 15:27:36.860754: W tensorflow/python/util/util.cc:348] Sets are not currently considered sequences, but this may change in the future, so consider avoiding using them.\n",
      "Some layers from the model checkpoint at distilbert-base-uncased were not used when initializing TFDistilBertModel: ['vocab_projector', 'activation_13', 'vocab_layer_norm', 'vocab_transform']\n",
      "- This IS expected if you are initializing TFDistilBertModel from the checkpoint of a model trained on another task or with another architecture (e.g. initializing a BertForSequenceClassification model from a BertForPreTraining model).\n",
      "- This IS NOT expected if you are initializing TFDistilBertModel from the checkpoint of a model that you expect to be exactly identical (initializing a BertForSequenceClassification model from a BertForSequenceClassification model).\n",
      "All the layers of TFDistilBertModel were initialized from the model checkpoint at distilbert-base-uncased.\n",
      "If your task is similar to the task the model of the checkpoint was trained on, you can already use TFDistilBertModel for predictions without further training.\n"
     ]
    },
    {
     "name": "stdout",
     "output_type": "stream",
     "text": [
      "Model: \"Model1_BERT\"\n",
      "__________________________________________________________________________________________________\n",
      "Layer (type)                    Output Shape         Param #     Connected to                     \n",
      "==================================================================================================\n",
      "input_token (InputLayer)        [(None, 128)]        0                                            \n",
      "__________________________________________________________________________________________________\n",
      "masked_token (InputLayer)       [(None, 128)]        0                                            \n",
      "__________________________________________________________________________________________________\n",
      "tf_distil_bert_model (TFDistilB TFBaseModelOutput(la 66362880    input_token[0][0]                \n",
      "                                                                 masked_token[0][0]               \n",
      "__________________________________________________________________________________________________\n",
      "global_average_pooling1d_masked (None, 768)          0           tf_distil_bert_model[0][0]       \n",
      "__________________________________________________________________________________________________\n",
      "dense (Dense)                   (None, 16)           12304       global_average_pooling1d_masked[0\n",
      "__________________________________________________________________________________________________\n",
      "dense_1 (Dense)                 (None, 3)            51          dense[0][0]                      \n",
      "==================================================================================================\n",
      "Total params: 66,375,235\n",
      "Trainable params: 66,375,235\n",
      "Non-trainable params: 0\n",
      "__________________________________________________________________________________________________\n"
     ]
    }
   ],
   "source": [
    "import tensorflow as tf\n",
    "hdepth=16  # got 16 by trial and test\n",
    "MAX_SEQUENCE_LENGTH = 128\n",
    "EMBED_SIZE=100\n",
    "\n",
    "\n",
    "def create_bag_of_words_BERT():\n",
    "    input_ids_in = tf.keras.layers.Input(shape=(128,), name='input_token', dtype='int32')\n",
    "    input_masks_in = tf.keras.layers.Input(shape=(128,), name='masked_token', dtype='int32') \n",
    "\n",
    "    bert_embeddings = get_BERT_layer()\n",
    "    embedded_sent = bert_embeddings(input_ids_in, attention_mask=input_masks_in)[0]\n",
    "\n",
    "    pooled_sent=GlobalAveragePooling1DMasked()(embedded_sent)\n",
    "    hidden_output=Dense(hdepth,input_shape=(MAX_SEQUENCE_LENGTH,EMBED_SIZE),activation='sigmoid',kernel_initializer='glorot_uniform')(pooled_sent) # Sigmoid\n",
    "    label=Dense(3,input_shape=(hdepth,),activation='softmax',kernel_initializer='glorot_uniform')(hidden_output)\n",
    "    return Model(inputs=[input_ids_in,input_masks_in], outputs=[label],name='Model1_BERT')\n",
    "\n",
    "use_tpu = True\n",
    "if use_tpu:\n",
    "    # Create distribution strategy\n",
    "    tpu = tf.distribute.cluster_resolver.TPUClusterResolver()\n",
    "    tf.config.experimental_connect_to_cluster(tpu)\n",
    "    tf.tpu.experimental.initialize_tpu_system(tpu)\n",
    "    strategy = tf.distribute.experimental.TPUStrategy(tpu)\n",
    "\n",
    "    # Create model\n",
    "    with strategy.scope():\n",
    "        model1 = create_bag_of_words_BERT()\n",
    "        optimizer2 = tf.keras.optimizers.Adam(lr=5e-5)\n",
    "        model1.compile(optimizer=optimizer2, loss='binary_crossentropy', metrics=['accuracy'])\n",
    "else:\n",
    "    model1 = create_bag_of_words_BERT()\n",
    "    model1.compile(optimizer='adam',\n",
    "              loss='binary_crossentropy',\n",
    "              metrics=['accuracy'])\n",
    "\n",
    "model1.summary() \n",
    "\n",
    "\n"
   ]
  },
  {
   "cell_type": "code",
   "execution_count": 14,
   "id": "930d41bb",
   "metadata": {
    "execution": {
     "iopub.execute_input": "2022-07-17T15:27:51.017025Z",
     "iopub.status.busy": "2022-07-17T15:27:51.016344Z",
     "iopub.status.idle": "2022-07-17T15:30:40.547631Z",
     "shell.execute_reply": "2022-07-17T15:30:40.548197Z",
     "shell.execute_reply.started": "2022-07-17T14:54:57.697357Z"
    },
    "id": "S0SbsCsxF1zi",
    "outputId": "f0c40be4-8449-4f89-e799-7c58247123ef",
    "papermill": {
     "duration": 169.575597,
     "end_time": "2022-07-17T15:30:40.548569",
     "exception": false,
     "start_time": "2022-07-17T15:27:50.972972",
     "status": "completed"
    },
    "scrolled": true,
    "tags": []
   },
   "outputs": [
    {
     "name": "stdout",
     "output_type": "stream",
     "text": [
      "Epoch 1/30\n",
      "22/22 [==============================] - 85s 2s/step - loss: 0.6647 - accuracy: 0.3820 - val_loss: 0.5487 - val_accuracy: 0.5946\n",
      "Epoch 2/30\n",
      "22/22 [==============================] - 3s 132ms/step - loss: 0.5399 - accuracy: 0.5973 - val_loss: 0.4960 - val_accuracy: 0.6577\n",
      "Epoch 3/30\n",
      "22/22 [==============================] - 3s 132ms/step - loss: 0.4811 - accuracy: 0.6912 - val_loss: 0.4479 - val_accuracy: 0.7508\n",
      "Epoch 4/30\n",
      "22/22 [==============================] - 3s 134ms/step - loss: 0.4285 - accuracy: 0.7722 - val_loss: 0.4256 - val_accuracy: 0.7860\n",
      "Epoch 5/30\n",
      "22/22 [==============================] - 3s 132ms/step - loss: 0.3961 - accuracy: 0.8199 - val_loss: 0.4157 - val_accuracy: 0.8101\n",
      "Epoch 6/30\n",
      "22/22 [==============================] - 3s 130ms/step - loss: 0.3788 - accuracy: 0.8519 - val_loss: 0.4119 - val_accuracy: 0.8071\n",
      "Epoch 7/30\n",
      "22/22 [==============================] - 3s 133ms/step - loss: 0.3580 - accuracy: 0.8786 - val_loss: 0.4103 - val_accuracy: 0.8108\n",
      "Epoch 8/30\n",
      "22/22 [==============================] - 3s 131ms/step - loss: 0.3423 - accuracy: 0.9009 - val_loss: 0.4052 - val_accuracy: 0.8123\n",
      "Epoch 9/30\n",
      "22/22 [==============================] - 3s 133ms/step - loss: 0.3323 - accuracy: 0.9134 - val_loss: 0.4053 - val_accuracy: 0.8116\n",
      "Epoch 10/30\n",
      "22/22 [==============================] - 3s 132ms/step - loss: 0.3283 - accuracy: 0.9190 - val_loss: 0.4094 - val_accuracy: 0.8078\n",
      "Epoch 11/30\n",
      "22/22 [==============================] - 3s 135ms/step - loss: 0.3160 - accuracy: 0.9349 - val_loss: 0.4050 - val_accuracy: 0.8146\n",
      "Epoch 12/30\n",
      "22/22 [==============================] - 3s 148ms/step - loss: 0.3130 - accuracy: 0.9357 - val_loss: 0.4117 - val_accuracy: 0.8063\n",
      "Epoch 13/30\n",
      "22/22 [==============================] - 3s 130ms/step - loss: 0.3044 - accuracy: 0.9461 - val_loss: 0.4030 - val_accuracy: 0.8176\n",
      "Epoch 14/30\n",
      "22/22 [==============================] - 3s 131ms/step - loss: 0.2979 - accuracy: 0.9523 - val_loss: 0.4123 - val_accuracy: 0.8086\n",
      "Epoch 15/30\n",
      "22/22 [==============================] - 3s 132ms/step - loss: 0.2975 - accuracy: 0.9516 - val_loss: 0.4097 - val_accuracy: 0.8146\n",
      "Epoch 16/30\n",
      "22/22 [==============================] - 3s 130ms/step - loss: 0.2912 - accuracy: 0.9591 - val_loss: 0.4060 - val_accuracy: 0.8146\n",
      "Epoch 17/30\n",
      "22/22 [==============================] - 3s 130ms/step - loss: 0.2898 - accuracy: 0.9600 - val_loss: 0.4045 - val_accuracy: 0.8191\n",
      "Epoch 18/30\n",
      "22/22 [==============================] - 3s 133ms/step - loss: 0.2842 - accuracy: 0.9632 - val_loss: 0.3989 - val_accuracy: 0.8236\n",
      "Epoch 19/30\n",
      "22/22 [==============================] - 3s 132ms/step - loss: 0.2826 - accuracy: 0.9648 - val_loss: 0.3993 - val_accuracy: 0.8236\n",
      "Epoch 20/30\n",
      "22/22 [==============================] - 3s 131ms/step - loss: 0.2795 - accuracy: 0.9680 - val_loss: 0.4058 - val_accuracy: 0.8018\n",
      "Epoch 21/30\n",
      "22/22 [==============================] - 3s 131ms/step - loss: 0.2787 - accuracy: 0.9655 - val_loss: 0.4001 - val_accuracy: 0.8183\n",
      "Epoch 22/30\n",
      "22/22 [==============================] - 3s 132ms/step - loss: 0.2769 - accuracy: 0.9689 - val_loss: 0.4040 - val_accuracy: 0.8101\n",
      "Epoch 23/30\n",
      "22/22 [==============================] - 3s 132ms/step - loss: 0.2762 - accuracy: 0.9671 - val_loss: 0.4061 - val_accuracy: 0.8086\n",
      "Epoch 24/30\n",
      "22/22 [==============================] - 3s 131ms/step - loss: 0.2721 - accuracy: 0.9701 - val_loss: 0.3966 - val_accuracy: 0.8153\n",
      "Epoch 25/30\n",
      "22/22 [==============================] - 3s 132ms/step - loss: 0.2697 - accuracy: 0.9724 - val_loss: 0.3978 - val_accuracy: 0.8243\n",
      "Epoch 26/30\n",
      "22/22 [==============================] - 3s 131ms/step - loss: 0.2693 - accuracy: 0.9723 - val_loss: 0.4026 - val_accuracy: 0.8123\n",
      "Epoch 27/30\n",
      "22/22 [==============================] - 3s 135ms/step - loss: 0.2685 - accuracy: 0.9743 - val_loss: 0.4023 - val_accuracy: 0.8168\n",
      "Epoch 28/30\n",
      "22/22 [==============================] - 3s 131ms/step - loss: 0.2636 - accuracy: 0.9752 - val_loss: 0.3945 - val_accuracy: 0.8221\n",
      "Epoch 29/30\n",
      "22/22 [==============================] - 3s 130ms/step - loss: 0.2613 - accuracy: 0.9763 - val_loss: 0.3985 - val_accuracy: 0.8168\n",
      "Epoch 30/30\n",
      "22/22 [==============================] - 3s 132ms/step - loss: 0.2596 - accuracy: 0.9791 - val_loss: 0.4015 - val_accuracy: 0.8153\n"
     ]
    }
   ],
   "source": [
    "\n",
    "history = model1.fit([x_train_int_np,x_train_masks_np],\n",
    "                    y_train,\n",
    "                    epochs=30,\n",
    "                    batch_size=512,\n",
    "                    validation_data=([x_dev_int_np,x_dev_masks_np], y_dev),\n",
    "                    verbose=1)"
   ]
  },
  {
   "cell_type": "code",
   "execution_count": 15,
   "id": "e5ef192b",
   "metadata": {
    "execution": {
     "iopub.execute_input": "2022-07-17T15:30:41.041733Z",
     "iopub.status.busy": "2022-07-17T15:30:41.040886Z",
     "iopub.status.idle": "2022-07-17T15:30:47.038355Z",
     "shell.execute_reply": "2022-07-17T15:30:47.038857Z",
     "shell.execute_reply.started": "2022-07-17T14:58:55.594405Z"
    },
    "id": "rs0_vvG6UQtv",
    "outputId": "07be567c-3980-4e54-be90-832716b13dd4",
    "papermill": {
     "duration": 6.247787,
     "end_time": "2022-07-17T15:30:47.039046",
     "exception": false,
     "start_time": "2022-07-17T15:30:40.791259",
     "status": "completed"
    },
    "tags": []
   },
   "outputs": [
    {
     "name": "stdout",
     "output_type": "stream",
     "text": [
      "42/42 [==============================] - 6s 70ms/step - loss: 0.3941 - accuracy: 0.8189\n",
      "[0.3941439092159271, 0.8188623189926147]\n"
     ]
    }
   ],
   "source": [
    "results = model1.evaluate([x_test_int_np,x_test_masks_np], y_test)\n",
    "print(results)"
   ]
  },
  {
   "cell_type": "markdown",
   "id": "9d41888d",
   "metadata": {
    "id": "awOphcCnhEwv",
    "papermill": {
     "duration": 0.242731,
     "end_time": "2022-07-17T15:30:47.527651",
     "exception": false,
     "start_time": "2022-07-17T15:30:47.284920",
     "status": "completed"
    },
    "tags": []
   },
   "source": [
    "## Model 2: LSTM with BERT"
   ]
  },
  {
   "cell_type": "code",
   "execution_count": 16,
   "id": "b5da5311",
   "metadata": {
    "execution": {
     "iopub.execute_input": "2022-07-17T15:30:48.031738Z",
     "iopub.status.busy": "2022-07-17T15:30:48.030954Z",
     "iopub.status.idle": "2022-07-17T15:31:02.810928Z",
     "shell.execute_reply": "2022-07-17T15:31:02.810365Z",
     "shell.execute_reply.started": "2022-07-17T15:03:46.328762Z"
    },
    "id": "JMiiWhW4hPRA",
    "outputId": "156c3ebb-f390-4994-cd4e-6fe5b69cd6d8",
    "papermill": {
     "duration": 15.038662,
     "end_time": "2022-07-17T15:31:02.811106",
     "exception": false,
     "start_time": "2022-07-17T15:30:47.772444",
     "status": "completed"
    },
    "tags": []
   },
   "outputs": [
    {
     "name": "stderr",
     "output_type": "stream",
     "text": [
      "2022-07-17 15:30:48.029693: I tensorflow/core/distributed_runtime/rpc/grpc_channel.cc:301] Initialize GrpcChannelCache for job worker -> {0 -> 10.0.0.2:8470}\n",
      "2022-07-17 15:30:48.030089: I tensorflow/core/distributed_runtime/rpc/grpc_channel.cc:301] Initialize GrpcChannelCache for job localhost -> {0 -> localhost:30019}\n",
      "2022-07-17 15:30:48.034873: I tensorflow/core/distributed_runtime/rpc/grpc_channel.cc:301] Initialize GrpcChannelCache for job worker -> {0 -> 10.0.0.2:8470}\n",
      "2022-07-17 15:30:48.034920: I tensorflow/core/distributed_runtime/rpc/grpc_channel.cc:301] Initialize GrpcChannelCache for job localhost -> {0 -> localhost:30019}\n",
      "Some layers from the model checkpoint at distilbert-base-uncased were not used when initializing TFDistilBertModel: ['vocab_projector', 'activation_13', 'vocab_layer_norm', 'vocab_transform']\n",
      "- This IS expected if you are initializing TFDistilBertModel from the checkpoint of a model trained on another task or with another architecture (e.g. initializing a BertForSequenceClassification model from a BertForPreTraining model).\n",
      "- This IS NOT expected if you are initializing TFDistilBertModel from the checkpoint of a model that you expect to be exactly identical (initializing a BertForSequenceClassification model from a BertForSequenceClassification model).\n",
      "All the layers of TFDistilBertModel were initialized from the model checkpoint at distilbert-base-uncased.\n",
      "If your task is similar to the task the model of the checkpoint was trained on, you can already use TFDistilBertModel for predictions without further training.\n"
     ]
    },
    {
     "name": "stdout",
     "output_type": "stream",
     "text": [
      "Model: \"Model2_BERT\"\n",
      "__________________________________________________________________________________________________\n",
      "Layer (type)                    Output Shape         Param #     Connected to                     \n",
      "==================================================================================================\n",
      "input_token (InputLayer)        [(None, 128)]        0                                            \n",
      "__________________________________________________________________________________________________\n",
      "masked_token (InputLayer)       [(None, 128)]        0                                            \n",
      "__________________________________________________________________________________________________\n",
      "tf_distil_bert_model_1 (TFDisti TFBaseModelOutput(la 66362880    input_token[0][0]                \n",
      "                                                                 masked_token[0][0]               \n",
      "__________________________________________________________________________________________________\n",
      "lstm (LSTM)                     (None, 100)          347600      tf_distil_bert_model_1[0][0]     \n",
      "__________________________________________________________________________________________________\n",
      "dense_2 (Dense)                 (None, 3)            303         lstm[0][0]                       \n",
      "==================================================================================================\n",
      "Total params: 66,710,783\n",
      "Trainable params: 66,710,783\n",
      "Non-trainable params: 0\n",
      "__________________________________________________________________________________________________\n"
     ]
    }
   ],
   "source": [
    "import tensorflow as tf\n",
    "MAX_SEQUENCE_LENGTH = 128\n",
    "EMBED_SIZE=100\n",
    "\n",
    "\n",
    "def create_bag_of_words_BERT():\n",
    "    input_ids_in = tf.keras.layers.Input(shape=(128,), name='input_token', dtype='int32')\n",
    "    input_masks_in = tf.keras.layers.Input(shape=(128,), name='masked_token', dtype='int32') \n",
    "\n",
    "    bert_embeddings = get_BERT_layer()\n",
    "    embedded_sent = bert_embeddings(input_ids_in, attention_mask=input_masks_in)[0]\n",
    "\n",
    "    # pooled_sent=GlobalAveragePooling1DMasked()(embedded_sent)\n",
    "    lstm_layer = LSTM(100)(embedded_sent)\n",
    "    # hidden_output=Dense(hdepth,input_shape=(MAX_SEQUENCE_LENGTH,EMBED_SIZE),activation='sigmoid',kernel_initializer='glorot_uniform')(lstm_layer) # Sigmoid\n",
    "    label=Dense(3,input_shape=(hdepth,),activation='softmax',kernel_initializer='glorot_uniform')(lstm_layer)\n",
    "    return Model(inputs=[input_ids_in,input_masks_in], outputs=[label],name='Model2_BERT')\n",
    "\n",
    "use_tpu = True\n",
    "if use_tpu:\n",
    "    # Create distribution strategy\n",
    "    tpu = tf.distribute.cluster_resolver.TPUClusterResolver()\n",
    "    tf.config.experimental_connect_to_cluster(tpu)\n",
    "    tf.tpu.experimental.initialize_tpu_system(tpu)\n",
    "    strategy = tf.distribute.experimental.TPUStrategy(tpu)\n",
    "\n",
    "    # Create model\n",
    "    with strategy.scope():\n",
    "        model2 = create_bag_of_words_BERT()\n",
    "        optimizer2 = tf.keras.optimizers.Adam(lr=5e-5)\n",
    "        model2.compile(optimizer=optimizer2, loss='binary_crossentropy', metrics=['accuracy'])\n",
    "else:\n",
    "    model2 = create_bag_of_words_BERT()\n",
    "\n",
    "    model2.compile(optimizer='adam',\n",
    "              loss='binary_crossentropy',\n",
    "              metrics=['accuracy'])\n",
    "\n",
    "\n",
    "model2.summary() \n"
   ]
  },
  {
   "cell_type": "code",
   "execution_count": 17,
   "id": "8c981874",
   "metadata": {
    "execution": {
     "iopub.execute_input": "2022-07-17T15:31:03.315648Z",
     "iopub.status.busy": "2022-07-17T15:31:03.314374Z",
     "iopub.status.idle": "2022-07-17T15:33:57.694899Z",
     "shell.execute_reply": "2022-07-17T15:33:57.694262Z",
     "shell.execute_reply.started": "2022-07-17T15:04:14.436830Z"
    },
    "id": "c9HmJNzNpIEM",
    "outputId": "5660b329-ae4f-493c-c878-362ef35c4967",
    "papermill": {
     "duration": 174.632331,
     "end_time": "2022-07-17T15:33:57.695109",
     "exception": false,
     "start_time": "2022-07-17T15:31:03.062778",
     "status": "completed"
    },
    "scrolled": true,
    "tags": []
   },
   "outputs": [
    {
     "name": "stdout",
     "output_type": "stream",
     "text": [
      "Epoch 1/30\n",
      "22/22 [==============================] - 87s 2s/step - loss: 0.6245 - accuracy: 0.4616 - val_loss: 0.4935 - val_accuracy: 0.6314\n",
      "Epoch 2/30\n",
      "22/22 [==============================] - 3s 137ms/step - loss: 0.4675 - accuracy: 0.6462 - val_loss: 0.3737 - val_accuracy: 0.7462\n",
      "Epoch 3/30\n",
      "22/22 [==============================] - 3s 136ms/step - loss: 0.3371 - accuracy: 0.7753 - val_loss: 0.3169 - val_accuracy: 0.7943\n",
      "Epoch 4/30\n",
      "22/22 [==============================] - 3s 137ms/step - loss: 0.2808 - accuracy: 0.8249 - val_loss: 0.3074 - val_accuracy: 0.8018\n",
      "Epoch 5/30\n",
      "22/22 [==============================] - 3s 136ms/step - loss: 0.2323 - accuracy: 0.8589 - val_loss: 0.3071 - val_accuracy: 0.8191\n",
      "Epoch 6/30\n",
      "22/22 [==============================] - 3s 136ms/step - loss: 0.1881 - accuracy: 0.8931 - val_loss: 0.3146 - val_accuracy: 0.8168\n",
      "Epoch 7/30\n",
      "22/22 [==============================] - 3s 136ms/step - loss: 0.1495 - accuracy: 0.9190 - val_loss: 0.3257 - val_accuracy: 0.8258\n",
      "Epoch 8/30\n",
      "22/22 [==============================] - 3s 137ms/step - loss: 0.1258 - accuracy: 0.9318 - val_loss: 0.3588 - val_accuracy: 0.8213\n",
      "Epoch 9/30\n",
      "22/22 [==============================] - 3s 137ms/step - loss: 0.1124 - accuracy: 0.9409 - val_loss: 0.3610 - val_accuracy: 0.8153\n",
      "Epoch 10/30\n",
      "22/22 [==============================] - 3s 135ms/step - loss: 0.0860 - accuracy: 0.9577 - val_loss: 0.3914 - val_accuracy: 0.8198\n",
      "Epoch 11/30\n",
      "22/22 [==============================] - 3s 136ms/step - loss: 0.0804 - accuracy: 0.9597 - val_loss: 0.4108 - val_accuracy: 0.8086\n",
      "Epoch 12/30\n",
      "22/22 [==============================] - 3s 137ms/step - loss: 0.0690 - accuracy: 0.9658 - val_loss: 0.4240 - val_accuracy: 0.8078\n",
      "Epoch 13/30\n",
      "22/22 [==============================] - 3s 136ms/step - loss: 0.0593 - accuracy: 0.9717 - val_loss: 0.4409 - val_accuracy: 0.8063\n",
      "Epoch 14/30\n",
      "22/22 [==============================] - 3s 137ms/step - loss: 0.0536 - accuracy: 0.9765 - val_loss: 0.4318 - val_accuracy: 0.8048\n",
      "Epoch 15/30\n",
      "22/22 [==============================] - 3s 137ms/step - loss: 0.0456 - accuracy: 0.9786 - val_loss: 0.4524 - val_accuracy: 0.8116\n",
      "Epoch 16/30\n",
      "22/22 [==============================] - 3s 137ms/step - loss: 0.0373 - accuracy: 0.9837 - val_loss: 0.4497 - val_accuracy: 0.8183\n",
      "Epoch 17/30\n",
      "22/22 [==============================] - 3s 136ms/step - loss: 0.0314 - accuracy: 0.9865 - val_loss: 0.4688 - val_accuracy: 0.8153\n",
      "Epoch 18/30\n",
      "22/22 [==============================] - 3s 136ms/step - loss: 0.0404 - accuracy: 0.9829 - val_loss: 0.4690 - val_accuracy: 0.8221\n",
      "Epoch 19/30\n",
      "22/22 [==============================] - 3s 136ms/step - loss: 0.0277 - accuracy: 0.9893 - val_loss: 0.4611 - val_accuracy: 0.8183\n",
      "Epoch 20/30\n",
      "22/22 [==============================] - 3s 136ms/step - loss: 0.0300 - accuracy: 0.9869 - val_loss: 0.4664 - val_accuracy: 0.8213\n",
      "Epoch 21/30\n",
      "22/22 [==============================] - 3s 137ms/step - loss: 0.0265 - accuracy: 0.9892 - val_loss: 0.4814 - val_accuracy: 0.8206\n",
      "Epoch 22/30\n",
      "22/22 [==============================] - 3s 136ms/step - loss: 0.0233 - accuracy: 0.9919 - val_loss: 0.4782 - val_accuracy: 0.8161\n",
      "Epoch 23/30\n",
      "22/22 [==============================] - 3s 136ms/step - loss: 0.0234 - accuracy: 0.9916 - val_loss: 0.5028 - val_accuracy: 0.8228\n",
      "Epoch 24/30\n",
      "22/22 [==============================] - 3s 137ms/step - loss: 0.0198 - accuracy: 0.9926 - val_loss: 0.5146 - val_accuracy: 0.8161\n",
      "Epoch 25/30\n",
      "22/22 [==============================] - 3s 137ms/step - loss: 0.0195 - accuracy: 0.9925 - val_loss: 0.5045 - val_accuracy: 0.8183\n",
      "Epoch 26/30\n",
      "22/22 [==============================] - 3s 138ms/step - loss: 0.0217 - accuracy: 0.9913 - val_loss: 0.5261 - val_accuracy: 0.8153\n",
      "Epoch 27/30\n",
      "22/22 [==============================] - 3s 137ms/step - loss: 0.0178 - accuracy: 0.9931 - val_loss: 0.5089 - val_accuracy: 0.8116\n",
      "Epoch 28/30\n",
      "22/22 [==============================] - 3s 136ms/step - loss: 0.0210 - accuracy: 0.9918 - val_loss: 0.5079 - val_accuracy: 0.8198\n",
      "Epoch 29/30\n",
      "22/22 [==============================] - 3s 137ms/step - loss: 0.0195 - accuracy: 0.9924 - val_loss: 0.5178 - val_accuracy: 0.8243\n",
      "Epoch 30/30\n",
      "22/22 [==============================] - 3s 136ms/step - loss: 0.0175 - accuracy: 0.9931 - val_loss: 0.5228 - val_accuracy: 0.8161\n"
     ]
    }
   ],
   "source": [
    "history = model2.fit([x_train_int_np,x_train_masks_np],\n",
    "                    y_train,\n",
    "                    epochs=30,\n",
    "                    batch_size=512,\n",
    "                    validation_data=([x_dev_int_np,x_dev_masks_np], y_dev),\n",
    "                    verbose=1)"
   ]
  },
  {
   "cell_type": "code",
   "execution_count": 18,
   "id": "69d1a27f",
   "metadata": {
    "execution": {
     "iopub.execute_input": "2022-07-17T15:33:58.685572Z",
     "iopub.status.busy": "2022-07-17T15:33:58.684672Z",
     "iopub.status.idle": "2022-07-17T15:34:04.995458Z",
     "shell.execute_reply": "2022-07-17T15:34:04.994870Z",
     "shell.execute_reply.started": "2022-07-17T15:08:37.846821Z"
    },
    "id": "W7TXLjQhpY--",
    "outputId": "73047600-3680-4a72-ff00-92b19dd339aa",
    "papermill": {
     "duration": 6.83637,
     "end_time": "2022-07-17T15:34:04.995626",
     "exception": false,
     "start_time": "2022-07-17T15:33:58.159256",
     "status": "completed"
    },
    "tags": []
   },
   "outputs": [
    {
     "name": "stdout",
     "output_type": "stream",
     "text": [
      "42/42 [==============================] - 6s 76ms/step - loss: 0.4959 - accuracy: 0.8256\n",
      "[0.49594008922576904, 0.8255988359451294]\n"
     ]
    }
   ],
   "source": [
    "results = model2.evaluate([x_test_int_np,x_test_masks_np], y_test)\n",
    "print(results)"
   ]
  },
  {
   "cell_type": "markdown",
   "id": "133a90a9",
   "metadata": {
    "id": "0I7tf5i60qli",
    "papermill": {
     "duration": 0.457504,
     "end_time": "2022-07-17T15:34:05.915802",
     "exception": false,
     "start_time": "2022-07-17T15:34:05.458298",
     "status": "completed"
    },
    "tags": []
   },
   "source": [
    "**LSTM accuracy(Model 2): 82.78% , Dense accuracy(Model 1): 82.63%**\n",
    "<br>Adding LSTM layer doesn't seem to improve the accuracy. It may be due to the fact that BERT embedding are already good as its trained on huge corpus. And adding LSTM layers wont affect the accuracy much. There is a good chance for the training to increase if we train the bert layers based on our data. But its not feasible as it will take huge amount of time due to millions of BERT trainable parameters."
   ]
  }
 ],
 "metadata": {
  "kernelspec": {
   "display_name": "Python 3",
   "language": "python",
   "name": "python3"
  },
  "language_info": {
   "codemirror_mode": {
    "name": "ipython",
    "version": 3
   },
   "file_extension": ".py",
   "mimetype": "text/x-python",
   "name": "python",
   "nbconvert_exporter": "python",
   "pygments_lexer": "ipython3",
   "version": "3.7.10"
  },
  "papermill": {
   "default_parameters": {},
   "duration": 482.997627,
   "end_time": "2022-07-17T15:34:09.093786",
   "environment_variables": {},
   "exception": null,
   "input_path": "__notebook__.ipynb",
   "output_path": "__notebook__.ipynb",
   "parameters": {},
   "start_time": "2022-07-17T15:26:06.096159",
   "version": "2.3.3"
  },
  "widgets": {
   "application/vnd.jupyter.widget-state+json": {
    "state": {
     "03252954c7b44a3eaea3f979c13ba3af": {
      "model_module": "@jupyter-widgets/controls",
      "model_module_version": "1.5.0",
      "model_name": "ProgressStyleModel",
      "state": {
       "_model_module": "@jupyter-widgets/controls",
       "_model_module_version": "1.5.0",
       "_model_name": "ProgressStyleModel",
       "_view_count": null,
       "_view_module": "@jupyter-widgets/base",
       "_view_module_version": "1.2.0",
       "_view_name": "StyleView",
       "bar_color": null,
       "description_width": ""
      }
     },
     "0354ca2b24714ee5a71e1ad1389bc6b8": {
      "model_module": "@jupyter-widgets/controls",
      "model_module_version": "1.5.0",
      "model_name": "DescriptionStyleModel",
      "state": {
       "_model_module": "@jupyter-widgets/controls",
       "_model_module_version": "1.5.0",
       "_model_name": "DescriptionStyleModel",
       "_view_count": null,
       "_view_module": "@jupyter-widgets/base",
       "_view_module_version": "1.2.0",
       "_view_name": "StyleView",
       "description_width": ""
      }
     },
     "0665aacf233d418bacfeb12d17d56074": {
      "model_module": "@jupyter-widgets/base",
      "model_module_version": "1.2.0",
      "model_name": "LayoutModel",
      "state": {
       "_model_module": "@jupyter-widgets/base",
       "_model_module_version": "1.2.0",
       "_model_name": "LayoutModel",
       "_view_count": null,
       "_view_module": "@jupyter-widgets/base",
       "_view_module_version": "1.2.0",
       "_view_name": "LayoutView",
       "align_content": null,
       "align_items": null,
       "align_self": null,
       "border": null,
       "bottom": null,
       "display": null,
       "flex": null,
       "flex_flow": null,
       "grid_area": null,
       "grid_auto_columns": null,
       "grid_auto_flow": null,
       "grid_auto_rows": null,
       "grid_column": null,
       "grid_gap": null,
       "grid_row": null,
       "grid_template_areas": null,
       "grid_template_columns": null,
       "grid_template_rows": null,
       "height": null,
       "justify_content": null,
       "justify_items": null,
       "left": null,
       "margin": null,
       "max_height": null,
       "max_width": null,
       "min_height": null,
       "min_width": null,
       "object_fit": null,
       "object_position": null,
       "order": null,
       "overflow": null,
       "overflow_x": null,
       "overflow_y": null,
       "padding": null,
       "right": null,
       "top": null,
       "visibility": null,
       "width": null
      }
     },
     "1367da7b0f8145108d7b6de21b6f5b43": {
      "model_module": "@jupyter-widgets/controls",
      "model_module_version": "1.5.0",
      "model_name": "HBoxModel",
      "state": {
       "_dom_classes": [],
       "_model_module": "@jupyter-widgets/controls",
       "_model_module_version": "1.5.0",
       "_model_name": "HBoxModel",
       "_view_count": null,
       "_view_module": "@jupyter-widgets/controls",
       "_view_module_version": "1.5.0",
       "_view_name": "HBoxView",
       "box_style": "",
       "children": [
        "IPY_MODEL_7cecc42237ed4d6581bfd581ae37e152",
        "IPY_MODEL_aca1b9425eaa42e8bce56bcb46380790",
        "IPY_MODEL_862c0c40012e465aad5270eb16a7a90e"
       ],
       "layout": "IPY_MODEL_3f81c956b0474f74969cdba95f9562be"
      }
     },
     "26d1bdfe567e42c89c0fe92b6292c24f": {
      "model_module": "@jupyter-widgets/controls",
      "model_module_version": "1.5.0",
      "model_name": "HBoxModel",
      "state": {
       "_dom_classes": [],
       "_model_module": "@jupyter-widgets/controls",
       "_model_module_version": "1.5.0",
       "_model_name": "HBoxModel",
       "_view_count": null,
       "_view_module": "@jupyter-widgets/controls",
       "_view_module_version": "1.5.0",
       "_view_name": "HBoxView",
       "box_style": "",
       "children": [
        "IPY_MODEL_b03f46fe2f02494b8b70df590838f316",
        "IPY_MODEL_af2a7ba87ae942a185ce9112b998465c",
        "IPY_MODEL_485189674cc94f2396f8ac0b479f3f50"
       ],
       "layout": "IPY_MODEL_9bd628abde104a429e05c0cbcea7a7ba"
      }
     },
     "39ba49bf82564dc0afc13e1895ab6093": {
      "model_module": "@jupyter-widgets/controls",
      "model_module_version": "1.5.0",
      "model_name": "DescriptionStyleModel",
      "state": {
       "_model_module": "@jupyter-widgets/controls",
       "_model_module_version": "1.5.0",
       "_model_name": "DescriptionStyleModel",
       "_view_count": null,
       "_view_module": "@jupyter-widgets/base",
       "_view_module_version": "1.2.0",
       "_view_name": "StyleView",
       "description_width": ""
      }
     },
     "3ab737bd6bd94d8db798343cb315e905": {
      "model_module": "@jupyter-widgets/base",
      "model_module_version": "1.2.0",
      "model_name": "LayoutModel",
      "state": {
       "_model_module": "@jupyter-widgets/base",
       "_model_module_version": "1.2.0",
       "_model_name": "LayoutModel",
       "_view_count": null,
       "_view_module": "@jupyter-widgets/base",
       "_view_module_version": "1.2.0",
       "_view_name": "LayoutView",
       "align_content": null,
       "align_items": null,
       "align_self": null,
       "border": null,
       "bottom": null,
       "display": null,
       "flex": null,
       "flex_flow": null,
       "grid_area": null,
       "grid_auto_columns": null,
       "grid_auto_flow": null,
       "grid_auto_rows": null,
       "grid_column": null,
       "grid_gap": null,
       "grid_row": null,
       "grid_template_areas": null,
       "grid_template_columns": null,
       "grid_template_rows": null,
       "height": null,
       "justify_content": null,
       "justify_items": null,
       "left": null,
       "margin": null,
       "max_height": null,
       "max_width": null,
       "min_height": null,
       "min_width": null,
       "object_fit": null,
       "object_position": null,
       "order": null,
       "overflow": null,
       "overflow_x": null,
       "overflow_y": null,
       "padding": null,
       "right": null,
       "top": null,
       "visibility": null,
       "width": null
      }
     },
     "3f81c956b0474f74969cdba95f9562be": {
      "model_module": "@jupyter-widgets/base",
      "model_module_version": "1.2.0",
      "model_name": "LayoutModel",
      "state": {
       "_model_module": "@jupyter-widgets/base",
       "_model_module_version": "1.2.0",
       "_model_name": "LayoutModel",
       "_view_count": null,
       "_view_module": "@jupyter-widgets/base",
       "_view_module_version": "1.2.0",
       "_view_name": "LayoutView",
       "align_content": null,
       "align_items": null,
       "align_self": null,
       "border": null,
       "bottom": null,
       "display": null,
       "flex": null,
       "flex_flow": null,
       "grid_area": null,
       "grid_auto_columns": null,
       "grid_auto_flow": null,
       "grid_auto_rows": null,
       "grid_column": null,
       "grid_gap": null,
       "grid_row": null,
       "grid_template_areas": null,
       "grid_template_columns": null,
       "grid_template_rows": null,
       "height": null,
       "justify_content": null,
       "justify_items": null,
       "left": null,
       "margin": null,
       "max_height": null,
       "max_width": null,
       "min_height": null,
       "min_width": null,
       "object_fit": null,
       "object_position": null,
       "order": null,
       "overflow": null,
       "overflow_x": null,
       "overflow_y": null,
       "padding": null,
       "right": null,
       "top": null,
       "visibility": null,
       "width": null
      }
     },
     "3fba9648473449599ffa446df2747295": {
      "model_module": "@jupyter-widgets/base",
      "model_module_version": "1.2.0",
      "model_name": "LayoutModel",
      "state": {
       "_model_module": "@jupyter-widgets/base",
       "_model_module_version": "1.2.0",
       "_model_name": "LayoutModel",
       "_view_count": null,
       "_view_module": "@jupyter-widgets/base",
       "_view_module_version": "1.2.0",
       "_view_name": "LayoutView",
       "align_content": null,
       "align_items": null,
       "align_self": null,
       "border": null,
       "bottom": null,
       "display": null,
       "flex": null,
       "flex_flow": null,
       "grid_area": null,
       "grid_auto_columns": null,
       "grid_auto_flow": null,
       "grid_auto_rows": null,
       "grid_column": null,
       "grid_gap": null,
       "grid_row": null,
       "grid_template_areas": null,
       "grid_template_columns": null,
       "grid_template_rows": null,
       "height": null,
       "justify_content": null,
       "justify_items": null,
       "left": null,
       "margin": null,
       "max_height": null,
       "max_width": null,
       "min_height": null,
       "min_width": null,
       "object_fit": null,
       "object_position": null,
       "order": null,
       "overflow": null,
       "overflow_x": null,
       "overflow_y": null,
       "padding": null,
       "right": null,
       "top": null,
       "visibility": null,
       "width": null
      }
     },
     "45241a8764e64157862509322a1703a0": {
      "model_module": "@jupyter-widgets/controls",
      "model_module_version": "1.5.0",
      "model_name": "DescriptionStyleModel",
      "state": {
       "_model_module": "@jupyter-widgets/controls",
       "_model_module_version": "1.5.0",
       "_model_name": "DescriptionStyleModel",
       "_view_count": null,
       "_view_module": "@jupyter-widgets/base",
       "_view_module_version": "1.2.0",
       "_view_name": "StyleView",
       "description_width": ""
      }
     },
     "485189674cc94f2396f8ac0b479f3f50": {
      "model_module": "@jupyter-widgets/controls",
      "model_module_version": "1.5.0",
      "model_name": "HTMLModel",
      "state": {
       "_dom_classes": [],
       "_model_module": "@jupyter-widgets/controls",
       "_model_module_version": "1.5.0",
       "_model_name": "HTMLModel",
       "_view_count": null,
       "_view_module": "@jupyter-widgets/controls",
       "_view_module_version": "1.5.0",
       "_view_name": "HTMLView",
       "description": "",
       "description_tooltip": null,
       "layout": "IPY_MODEL_8a614d54d17845e4a0b8af45839e8664",
       "placeholder": "​",
       "style": "IPY_MODEL_b0e7786318754200a576ddce168a6dec",
       "value": " 466k/466k [00:00&lt;00:00, 1.49MB/s]"
      }
     },
     "4ad6bdfad1f94a97bee0b653d54acd72": {
      "model_module": "@jupyter-widgets/controls",
      "model_module_version": "1.5.0",
      "model_name": "ProgressStyleModel",
      "state": {
       "_model_module": "@jupyter-widgets/controls",
       "_model_module_version": "1.5.0",
       "_model_name": "ProgressStyleModel",
       "_view_count": null,
       "_view_module": "@jupyter-widgets/base",
       "_view_module_version": "1.2.0",
       "_view_name": "StyleView",
       "bar_color": null,
       "description_width": ""
      }
     },
     "4b1decb2a95f499297a430740caa04c2": {
      "model_module": "@jupyter-widgets/controls",
      "model_module_version": "1.5.0",
      "model_name": "HTMLModel",
      "state": {
       "_dom_classes": [],
       "_model_module": "@jupyter-widgets/controls",
       "_model_module_version": "1.5.0",
       "_model_name": "HTMLModel",
       "_view_count": null,
       "_view_module": "@jupyter-widgets/controls",
       "_view_module_version": "1.5.0",
       "_view_name": "HTMLView",
       "description": "",
       "description_tooltip": null,
       "layout": "IPY_MODEL_9bece0fa2f1740308c8ec63347b6c366",
       "placeholder": "​",
       "style": "IPY_MODEL_bf1b17117c8e47dfa1f6494ce7937b16",
       "value": " 232k/232k [00:00&lt;00:00, 1.71MB/s]"
      }
     },
     "4d7f9448762f4a0481853d466ae77620": {
      "model_module": "@jupyter-widgets/controls",
      "model_module_version": "1.5.0",
      "model_name": "ProgressStyleModel",
      "state": {
       "_model_module": "@jupyter-widgets/controls",
       "_model_module_version": "1.5.0",
       "_model_name": "ProgressStyleModel",
       "_view_count": null,
       "_view_module": "@jupyter-widgets/base",
       "_view_module_version": "1.2.0",
       "_view_name": "StyleView",
       "bar_color": null,
       "description_width": ""
      }
     },
     "589ea6899fbb40aabeaf050bf56b2144": {
      "model_module": "@jupyter-widgets/controls",
      "model_module_version": "1.5.0",
      "model_name": "HTMLModel",
      "state": {
       "_dom_classes": [],
       "_model_module": "@jupyter-widgets/controls",
       "_model_module_version": "1.5.0",
       "_model_name": "HTMLModel",
       "_view_count": null,
       "_view_module": "@jupyter-widgets/controls",
       "_view_module_version": "1.5.0",
       "_view_name": "HTMLView",
       "description": "",
       "description_tooltip": null,
       "layout": "IPY_MODEL_9986398974804e7b855ab76c5255a728",
       "placeholder": "​",
       "style": "IPY_MODEL_af23274984b249ec82320a5e0d56badd",
       "value": " 363M/363M [00:20&lt;00:00, 13.2MB/s]"
      }
     },
     "5e8806e49b3740569de8b228564704c3": {
      "model_module": "@jupyter-widgets/controls",
      "model_module_version": "1.5.0",
      "model_name": "HBoxModel",
      "state": {
       "_dom_classes": [],
       "_model_module": "@jupyter-widgets/controls",
       "_model_module_version": "1.5.0",
       "_model_name": "HBoxModel",
       "_view_count": null,
       "_view_module": "@jupyter-widgets/controls",
       "_view_module_version": "1.5.0",
       "_view_name": "HBoxView",
       "box_style": "",
       "children": [
        "IPY_MODEL_c73c5d0db05f42e2907a77c411404043",
        "IPY_MODEL_8252a279b43a4c2aa2c72e1be4c26f9c",
        "IPY_MODEL_589ea6899fbb40aabeaf050bf56b2144"
       ],
       "layout": "IPY_MODEL_a19cba79f3a244b79f135cb0a53b8bee"
      }
     },
     "7c4eb212b7c34190bf67f59a211db3be": {
      "model_module": "@jupyter-widgets/controls",
      "model_module_version": "1.5.0",
      "model_name": "HBoxModel",
      "state": {
       "_dom_classes": [],
       "_model_module": "@jupyter-widgets/controls",
       "_model_module_version": "1.5.0",
       "_model_name": "HBoxModel",
       "_view_count": null,
       "_view_module": "@jupyter-widgets/controls",
       "_view_module_version": "1.5.0",
       "_view_name": "HBoxView",
       "box_style": "",
       "children": [
        "IPY_MODEL_a76679fe755e4c1c8cdcd63fe3b74d4b",
        "IPY_MODEL_edc278a66e124b0fbf3ddffb42902f1a",
        "IPY_MODEL_4b1decb2a95f499297a430740caa04c2"
       ],
       "layout": "IPY_MODEL_f8606d8ad223439c9cab82c2dd81e0ea"
      }
     },
     "7cecc42237ed4d6581bfd581ae37e152": {
      "model_module": "@jupyter-widgets/controls",
      "model_module_version": "1.5.0",
      "model_name": "HTMLModel",
      "state": {
       "_dom_classes": [],
       "_model_module": "@jupyter-widgets/controls",
       "_model_module_version": "1.5.0",
       "_model_name": "HTMLModel",
       "_view_count": null,
       "_view_module": "@jupyter-widgets/controls",
       "_view_module_version": "1.5.0",
       "_view_name": "HTMLView",
       "description": "",
       "description_tooltip": null,
       "layout": "IPY_MODEL_f3726aff2bef43389e7220f7e659dc90",
       "placeholder": "​",
       "style": "IPY_MODEL_0354ca2b24714ee5a71e1ad1389bc6b8",
       "value": "Downloading: 100%"
      }
     },
     "7e9f3bea545c452c92aa1a611b7de9d6": {
      "model_module": "@jupyter-widgets/base",
      "model_module_version": "1.2.0",
      "model_name": "LayoutModel",
      "state": {
       "_model_module": "@jupyter-widgets/base",
       "_model_module_version": "1.2.0",
       "_model_name": "LayoutModel",
       "_view_count": null,
       "_view_module": "@jupyter-widgets/base",
       "_view_module_version": "1.2.0",
       "_view_name": "LayoutView",
       "align_content": null,
       "align_items": null,
       "align_self": null,
       "border": null,
       "bottom": null,
       "display": null,
       "flex": null,
       "flex_flow": null,
       "grid_area": null,
       "grid_auto_columns": null,
       "grid_auto_flow": null,
       "grid_auto_rows": null,
       "grid_column": null,
       "grid_gap": null,
       "grid_row": null,
       "grid_template_areas": null,
       "grid_template_columns": null,
       "grid_template_rows": null,
       "height": null,
       "justify_content": null,
       "justify_items": null,
       "left": null,
       "margin": null,
       "max_height": null,
       "max_width": null,
       "min_height": null,
       "min_width": null,
       "object_fit": null,
       "object_position": null,
       "order": null,
       "overflow": null,
       "overflow_x": null,
       "overflow_y": null,
       "padding": null,
       "right": null,
       "top": null,
       "visibility": null,
       "width": null
      }
     },
     "8252a279b43a4c2aa2c72e1be4c26f9c": {
      "model_module": "@jupyter-widgets/controls",
      "model_module_version": "1.5.0",
      "model_name": "FloatProgressModel",
      "state": {
       "_dom_classes": [],
       "_model_module": "@jupyter-widgets/controls",
       "_model_module_version": "1.5.0",
       "_model_name": "FloatProgressModel",
       "_view_count": null,
       "_view_module": "@jupyter-widgets/controls",
       "_view_module_version": "1.5.0",
       "_view_name": "ProgressView",
       "bar_style": "success",
       "description": "",
       "description_tooltip": null,
       "layout": "IPY_MODEL_0665aacf233d418bacfeb12d17d56074",
       "max": 363423424.0,
       "min": 0.0,
       "orientation": "horizontal",
       "style": "IPY_MODEL_c9a53fb938cb44bea63baba10337f866",
       "value": 363423424.0
      }
     },
     "862c0c40012e465aad5270eb16a7a90e": {
      "model_module": "@jupyter-widgets/controls",
      "model_module_version": "1.5.0",
      "model_name": "HTMLModel",
      "state": {
       "_dom_classes": [],
       "_model_module": "@jupyter-widgets/controls",
       "_model_module_version": "1.5.0",
       "_model_name": "HTMLModel",
       "_view_count": null,
       "_view_module": "@jupyter-widgets/controls",
       "_view_module_version": "1.5.0",
       "_view_name": "HTMLView",
       "description": "",
       "description_tooltip": null,
       "layout": "IPY_MODEL_3ab737bd6bd94d8db798343cb315e905",
       "placeholder": "​",
       "style": "IPY_MODEL_cc884ec5c4474bbbb5bc9e14b6843d61",
       "value": " 28.0/28.0 [00:00&lt;00:00, 935B/s]"
      }
     },
     "8a614d54d17845e4a0b8af45839e8664": {
      "model_module": "@jupyter-widgets/base",
      "model_module_version": "1.2.0",
      "model_name": "LayoutModel",
      "state": {
       "_model_module": "@jupyter-widgets/base",
       "_model_module_version": "1.2.0",
       "_model_name": "LayoutModel",
       "_view_count": null,
       "_view_module": "@jupyter-widgets/base",
       "_view_module_version": "1.2.0",
       "_view_name": "LayoutView",
       "align_content": null,
       "align_items": null,
       "align_self": null,
       "border": null,
       "bottom": null,
       "display": null,
       "flex": null,
       "flex_flow": null,
       "grid_area": null,
       "grid_auto_columns": null,
       "grid_auto_flow": null,
       "grid_auto_rows": null,
       "grid_column": null,
       "grid_gap": null,
       "grid_row": null,
       "grid_template_areas": null,
       "grid_template_columns": null,
       "grid_template_rows": null,
       "height": null,
       "justify_content": null,
       "justify_items": null,
       "left": null,
       "margin": null,
       "max_height": null,
       "max_width": null,
       "min_height": null,
       "min_width": null,
       "object_fit": null,
       "object_position": null,
       "order": null,
       "overflow": null,
       "overflow_x": null,
       "overflow_y": null,
       "padding": null,
       "right": null,
       "top": null,
       "visibility": null,
       "width": null
      }
     },
     "8ba71a916f53452eb94a9ca96aec1747": {
      "model_module": "@jupyter-widgets/base",
      "model_module_version": "1.2.0",
      "model_name": "LayoutModel",
      "state": {
       "_model_module": "@jupyter-widgets/base",
       "_model_module_version": "1.2.0",
       "_model_name": "LayoutModel",
       "_view_count": null,
       "_view_module": "@jupyter-widgets/base",
       "_view_module_version": "1.2.0",
       "_view_name": "LayoutView",
       "align_content": null,
       "align_items": null,
       "align_self": null,
       "border": null,
       "bottom": null,
       "display": null,
       "flex": null,
       "flex_flow": null,
       "grid_area": null,
       "grid_auto_columns": null,
       "grid_auto_flow": null,
       "grid_auto_rows": null,
       "grid_column": null,
       "grid_gap": null,
       "grid_row": null,
       "grid_template_areas": null,
       "grid_template_columns": null,
       "grid_template_rows": null,
       "height": null,
       "justify_content": null,
       "justify_items": null,
       "left": null,
       "margin": null,
       "max_height": null,
       "max_width": null,
       "min_height": null,
       "min_width": null,
       "object_fit": null,
       "object_position": null,
       "order": null,
       "overflow": null,
       "overflow_x": null,
       "overflow_y": null,
       "padding": null,
       "right": null,
       "top": null,
       "visibility": null,
       "width": null
      }
     },
     "9986398974804e7b855ab76c5255a728": {
      "model_module": "@jupyter-widgets/base",
      "model_module_version": "1.2.0",
      "model_name": "LayoutModel",
      "state": {
       "_model_module": "@jupyter-widgets/base",
       "_model_module_version": "1.2.0",
       "_model_name": "LayoutModel",
       "_view_count": null,
       "_view_module": "@jupyter-widgets/base",
       "_view_module_version": "1.2.0",
       "_view_name": "LayoutView",
       "align_content": null,
       "align_items": null,
       "align_self": null,
       "border": null,
       "bottom": null,
       "display": null,
       "flex": null,
       "flex_flow": null,
       "grid_area": null,
       "grid_auto_columns": null,
       "grid_auto_flow": null,
       "grid_auto_rows": null,
       "grid_column": null,
       "grid_gap": null,
       "grid_row": null,
       "grid_template_areas": null,
       "grid_template_columns": null,
       "grid_template_rows": null,
       "height": null,
       "justify_content": null,
       "justify_items": null,
       "left": null,
       "margin": null,
       "max_height": null,
       "max_width": null,
       "min_height": null,
       "min_width": null,
       "object_fit": null,
       "object_position": null,
       "order": null,
       "overflow": null,
       "overflow_x": null,
       "overflow_y": null,
       "padding": null,
       "right": null,
       "top": null,
       "visibility": null,
       "width": null
      }
     },
     "9bd628abde104a429e05c0cbcea7a7ba": {
      "model_module": "@jupyter-widgets/base",
      "model_module_version": "1.2.0",
      "model_name": "LayoutModel",
      "state": {
       "_model_module": "@jupyter-widgets/base",
       "_model_module_version": "1.2.0",
       "_model_name": "LayoutModel",
       "_view_count": null,
       "_view_module": "@jupyter-widgets/base",
       "_view_module_version": "1.2.0",
       "_view_name": "LayoutView",
       "align_content": null,
       "align_items": null,
       "align_self": null,
       "border": null,
       "bottom": null,
       "display": null,
       "flex": null,
       "flex_flow": null,
       "grid_area": null,
       "grid_auto_columns": null,
       "grid_auto_flow": null,
       "grid_auto_rows": null,
       "grid_column": null,
       "grid_gap": null,
       "grid_row": null,
       "grid_template_areas": null,
       "grid_template_columns": null,
       "grid_template_rows": null,
       "height": null,
       "justify_content": null,
       "justify_items": null,
       "left": null,
       "margin": null,
       "max_height": null,
       "max_width": null,
       "min_height": null,
       "min_width": null,
       "object_fit": null,
       "object_position": null,
       "order": null,
       "overflow": null,
       "overflow_x": null,
       "overflow_y": null,
       "padding": null,
       "right": null,
       "top": null,
       "visibility": null,
       "width": null
      }
     },
     "9bece0fa2f1740308c8ec63347b6c366": {
      "model_module": "@jupyter-widgets/base",
      "model_module_version": "1.2.0",
      "model_name": "LayoutModel",
      "state": {
       "_model_module": "@jupyter-widgets/base",
       "_model_module_version": "1.2.0",
       "_model_name": "LayoutModel",
       "_view_count": null,
       "_view_module": "@jupyter-widgets/base",
       "_view_module_version": "1.2.0",
       "_view_name": "LayoutView",
       "align_content": null,
       "align_items": null,
       "align_self": null,
       "border": null,
       "bottom": null,
       "display": null,
       "flex": null,
       "flex_flow": null,
       "grid_area": null,
       "grid_auto_columns": null,
       "grid_auto_flow": null,
       "grid_auto_rows": null,
       "grid_column": null,
       "grid_gap": null,
       "grid_row": null,
       "grid_template_areas": null,
       "grid_template_columns": null,
       "grid_template_rows": null,
       "height": null,
       "justify_content": null,
       "justify_items": null,
       "left": null,
       "margin": null,
       "max_height": null,
       "max_width": null,
       "min_height": null,
       "min_width": null,
       "object_fit": null,
       "object_position": null,
       "order": null,
       "overflow": null,
       "overflow_x": null,
       "overflow_y": null,
       "padding": null,
       "right": null,
       "top": null,
       "visibility": null,
       "width": null
      }
     },
     "a19cba79f3a244b79f135cb0a53b8bee": {
      "model_module": "@jupyter-widgets/base",
      "model_module_version": "1.2.0",
      "model_name": "LayoutModel",
      "state": {
       "_model_module": "@jupyter-widgets/base",
       "_model_module_version": "1.2.0",
       "_model_name": "LayoutModel",
       "_view_count": null,
       "_view_module": "@jupyter-widgets/base",
       "_view_module_version": "1.2.0",
       "_view_name": "LayoutView",
       "align_content": null,
       "align_items": null,
       "align_self": null,
       "border": null,
       "bottom": null,
       "display": null,
       "flex": null,
       "flex_flow": null,
       "grid_area": null,
       "grid_auto_columns": null,
       "grid_auto_flow": null,
       "grid_auto_rows": null,
       "grid_column": null,
       "grid_gap": null,
       "grid_row": null,
       "grid_template_areas": null,
       "grid_template_columns": null,
       "grid_template_rows": null,
       "height": null,
       "justify_content": null,
       "justify_items": null,
       "left": null,
       "margin": null,
       "max_height": null,
       "max_width": null,
       "min_height": null,
       "min_width": null,
       "object_fit": null,
       "object_position": null,
       "order": null,
       "overflow": null,
       "overflow_x": null,
       "overflow_y": null,
       "padding": null,
       "right": null,
       "top": null,
       "visibility": null,
       "width": null
      }
     },
     "a76679fe755e4c1c8cdcd63fe3b74d4b": {
      "model_module": "@jupyter-widgets/controls",
      "model_module_version": "1.5.0",
      "model_name": "HTMLModel",
      "state": {
       "_dom_classes": [],
       "_model_module": "@jupyter-widgets/controls",
       "_model_module_version": "1.5.0",
       "_model_name": "HTMLModel",
       "_view_count": null,
       "_view_module": "@jupyter-widgets/controls",
       "_view_module_version": "1.5.0",
       "_view_name": "HTMLView",
       "description": "",
       "description_tooltip": null,
       "layout": "IPY_MODEL_bce0d624674e418a90d58931ff544971",
       "placeholder": "​",
       "style": "IPY_MODEL_f2c61b59ead6418fbc3d015a69d3e389",
       "value": "Downloading: 100%"
      }
     },
     "aca1b9425eaa42e8bce56bcb46380790": {
      "model_module": "@jupyter-widgets/controls",
      "model_module_version": "1.5.0",
      "model_name": "FloatProgressModel",
      "state": {
       "_dom_classes": [],
       "_model_module": "@jupyter-widgets/controls",
       "_model_module_version": "1.5.0",
       "_model_name": "FloatProgressModel",
       "_view_count": null,
       "_view_module": "@jupyter-widgets/controls",
       "_view_module_version": "1.5.0",
       "_view_name": "ProgressView",
       "bar_style": "success",
       "description": "",
       "description_tooltip": null,
       "layout": "IPY_MODEL_f260572b61674416984633e471d33a55",
       "max": 28.0,
       "min": 0.0,
       "orientation": "horizontal",
       "style": "IPY_MODEL_03252954c7b44a3eaea3f979c13ba3af",
       "value": 28.0
      }
     },
     "af23274984b249ec82320a5e0d56badd": {
      "model_module": "@jupyter-widgets/controls",
      "model_module_version": "1.5.0",
      "model_name": "DescriptionStyleModel",
      "state": {
       "_model_module": "@jupyter-widgets/controls",
       "_model_module_version": "1.5.0",
       "_model_name": "DescriptionStyleModel",
       "_view_count": null,
       "_view_module": "@jupyter-widgets/base",
       "_view_module_version": "1.2.0",
       "_view_name": "StyleView",
       "description_width": ""
      }
     },
     "af2a7ba87ae942a185ce9112b998465c": {
      "model_module": "@jupyter-widgets/controls",
      "model_module_version": "1.5.0",
      "model_name": "FloatProgressModel",
      "state": {
       "_dom_classes": [],
       "_model_module": "@jupyter-widgets/controls",
       "_model_module_version": "1.5.0",
       "_model_name": "FloatProgressModel",
       "_view_count": null,
       "_view_module": "@jupyter-widgets/controls",
       "_view_module_version": "1.5.0",
       "_view_name": "ProgressView",
       "bar_style": "success",
       "description": "",
       "description_tooltip": null,
       "layout": "IPY_MODEL_7e9f3bea545c452c92aa1a611b7de9d6",
       "max": 466062.0,
       "min": 0.0,
       "orientation": "horizontal",
       "style": "IPY_MODEL_4ad6bdfad1f94a97bee0b653d54acd72",
       "value": 466062.0
      }
     },
     "b03f46fe2f02494b8b70df590838f316": {
      "model_module": "@jupyter-widgets/controls",
      "model_module_version": "1.5.0",
      "model_name": "HTMLModel",
      "state": {
       "_dom_classes": [],
       "_model_module": "@jupyter-widgets/controls",
       "_model_module_version": "1.5.0",
       "_model_name": "HTMLModel",
       "_view_count": null,
       "_view_module": "@jupyter-widgets/controls",
       "_view_module_version": "1.5.0",
       "_view_name": "HTMLView",
       "description": "",
       "description_tooltip": null,
       "layout": "IPY_MODEL_3fba9648473449599ffa446df2747295",
       "placeholder": "​",
       "style": "IPY_MODEL_39ba49bf82564dc0afc13e1895ab6093",
       "value": "Downloading: 100%"
      }
     },
     "b0e7786318754200a576ddce168a6dec": {
      "model_module": "@jupyter-widgets/controls",
      "model_module_version": "1.5.0",
      "model_name": "DescriptionStyleModel",
      "state": {
       "_model_module": "@jupyter-widgets/controls",
       "_model_module_version": "1.5.0",
       "_model_name": "DescriptionStyleModel",
       "_view_count": null,
       "_view_module": "@jupyter-widgets/base",
       "_view_module_version": "1.2.0",
       "_view_name": "StyleView",
       "description_width": ""
      }
     },
     "bbb0783e5bdc487cbc6e778a463da136": {
      "model_module": "@jupyter-widgets/base",
      "model_module_version": "1.2.0",
      "model_name": "LayoutModel",
      "state": {
       "_model_module": "@jupyter-widgets/base",
       "_model_module_version": "1.2.0",
       "_model_name": "LayoutModel",
       "_view_count": null,
       "_view_module": "@jupyter-widgets/base",
       "_view_module_version": "1.2.0",
       "_view_name": "LayoutView",
       "align_content": null,
       "align_items": null,
       "align_self": null,
       "border": null,
       "bottom": null,
       "display": null,
       "flex": null,
       "flex_flow": null,
       "grid_area": null,
       "grid_auto_columns": null,
       "grid_auto_flow": null,
       "grid_auto_rows": null,
       "grid_column": null,
       "grid_gap": null,
       "grid_row": null,
       "grid_template_areas": null,
       "grid_template_columns": null,
       "grid_template_rows": null,
       "height": null,
       "justify_content": null,
       "justify_items": null,
       "left": null,
       "margin": null,
       "max_height": null,
       "max_width": null,
       "min_height": null,
       "min_width": null,
       "object_fit": null,
       "object_position": null,
       "order": null,
       "overflow": null,
       "overflow_x": null,
       "overflow_y": null,
       "padding": null,
       "right": null,
       "top": null,
       "visibility": null,
       "width": null
      }
     },
     "bce0d624674e418a90d58931ff544971": {
      "model_module": "@jupyter-widgets/base",
      "model_module_version": "1.2.0",
      "model_name": "LayoutModel",
      "state": {
       "_model_module": "@jupyter-widgets/base",
       "_model_module_version": "1.2.0",
       "_model_name": "LayoutModel",
       "_view_count": null,
       "_view_module": "@jupyter-widgets/base",
       "_view_module_version": "1.2.0",
       "_view_name": "LayoutView",
       "align_content": null,
       "align_items": null,
       "align_self": null,
       "border": null,
       "bottom": null,
       "display": null,
       "flex": null,
       "flex_flow": null,
       "grid_area": null,
       "grid_auto_columns": null,
       "grid_auto_flow": null,
       "grid_auto_rows": null,
       "grid_column": null,
       "grid_gap": null,
       "grid_row": null,
       "grid_template_areas": null,
       "grid_template_columns": null,
       "grid_template_rows": null,
       "height": null,
       "justify_content": null,
       "justify_items": null,
       "left": null,
       "margin": null,
       "max_height": null,
       "max_width": null,
       "min_height": null,
       "min_width": null,
       "object_fit": null,
       "object_position": null,
       "order": null,
       "overflow": null,
       "overflow_x": null,
       "overflow_y": null,
       "padding": null,
       "right": null,
       "top": null,
       "visibility": null,
       "width": null
      }
     },
     "bf1b17117c8e47dfa1f6494ce7937b16": {
      "model_module": "@jupyter-widgets/controls",
      "model_module_version": "1.5.0",
      "model_name": "DescriptionStyleModel",
      "state": {
       "_model_module": "@jupyter-widgets/controls",
       "_model_module_version": "1.5.0",
       "_model_name": "DescriptionStyleModel",
       "_view_count": null,
       "_view_module": "@jupyter-widgets/base",
       "_view_module_version": "1.2.0",
       "_view_name": "StyleView",
       "description_width": ""
      }
     },
     "c73c5d0db05f42e2907a77c411404043": {
      "model_module": "@jupyter-widgets/controls",
      "model_module_version": "1.5.0",
      "model_name": "HTMLModel",
      "state": {
       "_dom_classes": [],
       "_model_module": "@jupyter-widgets/controls",
       "_model_module_version": "1.5.0",
       "_model_name": "HTMLModel",
       "_view_count": null,
       "_view_module": "@jupyter-widgets/controls",
       "_view_module_version": "1.5.0",
       "_view_name": "HTMLView",
       "description": "",
       "description_tooltip": null,
       "layout": "IPY_MODEL_bbb0783e5bdc487cbc6e778a463da136",
       "placeholder": "​",
       "style": "IPY_MODEL_45241a8764e64157862509322a1703a0",
       "value": "Downloading: 100%"
      }
     },
     "c9a53fb938cb44bea63baba10337f866": {
      "model_module": "@jupyter-widgets/controls",
      "model_module_version": "1.5.0",
      "model_name": "ProgressStyleModel",
      "state": {
       "_model_module": "@jupyter-widgets/controls",
       "_model_module_version": "1.5.0",
       "_model_name": "ProgressStyleModel",
       "_view_count": null,
       "_view_module": "@jupyter-widgets/base",
       "_view_module_version": "1.2.0",
       "_view_name": "StyleView",
       "bar_color": null,
       "description_width": ""
      }
     },
     "cc884ec5c4474bbbb5bc9e14b6843d61": {
      "model_module": "@jupyter-widgets/controls",
      "model_module_version": "1.5.0",
      "model_name": "DescriptionStyleModel",
      "state": {
       "_model_module": "@jupyter-widgets/controls",
       "_model_module_version": "1.5.0",
       "_model_name": "DescriptionStyleModel",
       "_view_count": null,
       "_view_module": "@jupyter-widgets/base",
       "_view_module_version": "1.2.0",
       "_view_name": "StyleView",
       "description_width": ""
      }
     },
     "edc278a66e124b0fbf3ddffb42902f1a": {
      "model_module": "@jupyter-widgets/controls",
      "model_module_version": "1.5.0",
      "model_name": "FloatProgressModel",
      "state": {
       "_dom_classes": [],
       "_model_module": "@jupyter-widgets/controls",
       "_model_module_version": "1.5.0",
       "_model_name": "FloatProgressModel",
       "_view_count": null,
       "_view_module": "@jupyter-widgets/controls",
       "_view_module_version": "1.5.0",
       "_view_name": "ProgressView",
       "bar_style": "success",
       "description": "",
       "description_tooltip": null,
       "layout": "IPY_MODEL_8ba71a916f53452eb94a9ca96aec1747",
       "max": 231508.0,
       "min": 0.0,
       "orientation": "horizontal",
       "style": "IPY_MODEL_4d7f9448762f4a0481853d466ae77620",
       "value": 231508.0
      }
     },
     "f260572b61674416984633e471d33a55": {
      "model_module": "@jupyter-widgets/base",
      "model_module_version": "1.2.0",
      "model_name": "LayoutModel",
      "state": {
       "_model_module": "@jupyter-widgets/base",
       "_model_module_version": "1.2.0",
       "_model_name": "LayoutModel",
       "_view_count": null,
       "_view_module": "@jupyter-widgets/base",
       "_view_module_version": "1.2.0",
       "_view_name": "LayoutView",
       "align_content": null,
       "align_items": null,
       "align_self": null,
       "border": null,
       "bottom": null,
       "display": null,
       "flex": null,
       "flex_flow": null,
       "grid_area": null,
       "grid_auto_columns": null,
       "grid_auto_flow": null,
       "grid_auto_rows": null,
       "grid_column": null,
       "grid_gap": null,
       "grid_row": null,
       "grid_template_areas": null,
       "grid_template_columns": null,
       "grid_template_rows": null,
       "height": null,
       "justify_content": null,
       "justify_items": null,
       "left": null,
       "margin": null,
       "max_height": null,
       "max_width": null,
       "min_height": null,
       "min_width": null,
       "object_fit": null,
       "object_position": null,
       "order": null,
       "overflow": null,
       "overflow_x": null,
       "overflow_y": null,
       "padding": null,
       "right": null,
       "top": null,
       "visibility": null,
       "width": null
      }
     },
     "f2c61b59ead6418fbc3d015a69d3e389": {
      "model_module": "@jupyter-widgets/controls",
      "model_module_version": "1.5.0",
      "model_name": "DescriptionStyleModel",
      "state": {
       "_model_module": "@jupyter-widgets/controls",
       "_model_module_version": "1.5.0",
       "_model_name": "DescriptionStyleModel",
       "_view_count": null,
       "_view_module": "@jupyter-widgets/base",
       "_view_module_version": "1.2.0",
       "_view_name": "StyleView",
       "description_width": ""
      }
     },
     "f3726aff2bef43389e7220f7e659dc90": {
      "model_module": "@jupyter-widgets/base",
      "model_module_version": "1.2.0",
      "model_name": "LayoutModel",
      "state": {
       "_model_module": "@jupyter-widgets/base",
       "_model_module_version": "1.2.0",
       "_model_name": "LayoutModel",
       "_view_count": null,
       "_view_module": "@jupyter-widgets/base",
       "_view_module_version": "1.2.0",
       "_view_name": "LayoutView",
       "align_content": null,
       "align_items": null,
       "align_self": null,
       "border": null,
       "bottom": null,
       "display": null,
       "flex": null,
       "flex_flow": null,
       "grid_area": null,
       "grid_auto_columns": null,
       "grid_auto_flow": null,
       "grid_auto_rows": null,
       "grid_column": null,
       "grid_gap": null,
       "grid_row": null,
       "grid_template_areas": null,
       "grid_template_columns": null,
       "grid_template_rows": null,
       "height": null,
       "justify_content": null,
       "justify_items": null,
       "left": null,
       "margin": null,
       "max_height": null,
       "max_width": null,
       "min_height": null,
       "min_width": null,
       "object_fit": null,
       "object_position": null,
       "order": null,
       "overflow": null,
       "overflow_x": null,
       "overflow_y": null,
       "padding": null,
       "right": null,
       "top": null,
       "visibility": null,
       "width": null
      }
     },
     "f8606d8ad223439c9cab82c2dd81e0ea": {
      "model_module": "@jupyter-widgets/base",
      "model_module_version": "1.2.0",
      "model_name": "LayoutModel",
      "state": {
       "_model_module": "@jupyter-widgets/base",
       "_model_module_version": "1.2.0",
       "_model_name": "LayoutModel",
       "_view_count": null,
       "_view_module": "@jupyter-widgets/base",
       "_view_module_version": "1.2.0",
       "_view_name": "LayoutView",
       "align_content": null,
       "align_items": null,
       "align_self": null,
       "border": null,
       "bottom": null,
       "display": null,
       "flex": null,
       "flex_flow": null,
       "grid_area": null,
       "grid_auto_columns": null,
       "grid_auto_flow": null,
       "grid_auto_rows": null,
       "grid_column": null,
       "grid_gap": null,
       "grid_row": null,
       "grid_template_areas": null,
       "grid_template_columns": null,
       "grid_template_rows": null,
       "height": null,
       "justify_content": null,
       "justify_items": null,
       "left": null,
       "margin": null,
       "max_height": null,
       "max_width": null,
       "min_height": null,
       "min_width": null,
       "object_fit": null,
       "object_position": null,
       "order": null,
       "overflow": null,
       "overflow_x": null,
       "overflow_y": null,
       "padding": null,
       "right": null,
       "top": null,
       "visibility": null,
       "width": null
      }
     }
    },
    "version_major": 2,
    "version_minor": 0
   }
  }
 },
 "nbformat": 4,
 "nbformat_minor": 5
}
